{
  "nbformat": 4,
  "nbformat_minor": 0,
  "metadata": {
    "colab": {
      "name": "Iris2.ipynb",
      "provenance": [],
      "mount_file_id": "18d4fS96QkxnzrxMz2fNQEf0mVTSCxgnb",
      "authorship_tag": "ABX9TyPkfAK/x0Y5TPMZTkANYm4K",
      "include_colab_link": true
    },
    "kernelspec": {
      "name": "python3",
      "display_name": "Python 3"
    },
    "language_info": {
      "name": "python"
    }
  },
  "cells": [
    {
      "cell_type": "markdown",
      "metadata": {
        "id": "view-in-github",
        "colab_type": "text"
      },
      "source": [
        "<a href=\"https://colab.research.google.com/github/DarxinZ/ML/blob/main/Iris2.ipynb\" target=\"_parent\"><img src=\"https://colab.research.google.com/assets/colab-badge.svg\" alt=\"Open In Colab\"/></a>"
      ]
    },
    {
      "cell_type": "code",
      "metadata": {
        "id": "XGaa-kbGjVUH"
      },
      "source": [
        "import pandas as pd\n",
        "\n",
        "# Load data\n",
        "\n",
        "df = pd.read_csv('/content/drive/MyDrive/Data/Iris.csv')\n",
        "df.columns\n",
        "\n",
        "X = df[['SepalLengthCm', 'SepalWidthCm', 'PetalLengthCm', 'PetalWidthCm']]\n",
        "y = df['Species']\n"
      ],
      "execution_count": null,
      "outputs": []
    },
    {
      "cell_type": "code",
      "metadata": {
        "id": "ZTW_ERrgnEoq"
      },
      "source": [
        "# Split data\n",
        "from sklearn.model_selection import train_test_split\n",
        "\n",
        "X_train, X_test, y_train, y_test = train_test_split(X, y, test_size=0.33, random_state=42)\n",
        "\n",
        "# X_train, X_test, y_train, y_test"
      ],
      "execution_count": null,
      "outputs": []
    },
    {
      "cell_type": "code",
      "metadata": {
        "colab": {
          "base_uri": "https://localhost:8080/"
        },
        "id": "48IPfTOgpTwk",
        "outputId": "bffb7b4e-b5c0-4355-99ce-12475f08bed7"
      },
      "source": [
        "# Train using KNN\n",
        "\n",
        "from sklearn.neighbors import KNeighborsClassifier\n",
        "\n",
        "knn3 = KNeighborsClassifier(n_neighbors=3)\n",
        "knn3.fit(X_train,y_train)\n"
      ],
      "execution_count": null,
      "outputs": [
        {
          "output_type": "execute_result",
          "data": {
            "text/plain": [
              "KNeighborsClassifier(algorithm='auto', leaf_size=30, metric='minkowski',\n",
              "                     metric_params=None, n_jobs=None, n_neighbors=3, p=2,\n",
              "                     weights='uniform')"
            ]
          },
          "metadata": {
            "tags": []
          },
          "execution_count": 9
        }
      ]
    },
    {
      "cell_type": "code",
      "metadata": {
        "id": "Uul5g8QEptXH"
      },
      "source": [
        "# Predict\n",
        "y_pred = knn3.predict(X_test)"
      ],
      "execution_count": null,
      "outputs": []
    },
    {
      "cell_type": "code",
      "metadata": {
        "colab": {
          "base_uri": "https://localhost:8080/"
        },
        "id": "4n4e2GEGx0uu",
        "outputId": "fac7dc73-d47f-4ddc-8ed7-be5ea213a658"
      },
      "source": [
        "# cross_val_score\n",
        "\n",
        "from sklearn.model_selection import cross_val_score\n",
        "\n",
        "cross_val_score(knn3,X,Y,cv=5)"
      ],
      "execution_count": null,
      "outputs": [
        {
          "output_type": "execute_result",
          "data": {
            "text/plain": [
              "array([0.96666667, 0.96666667, 0.93333333, 0.96666667, 1.        ])"
            ]
          },
          "metadata": {
            "tags": []
          },
          "execution_count": 32
        }
      ]
    },
    {
      "cell_type": "code",
      "metadata": {
        "colab": {
          "base_uri": "https://localhost:8080/"
        },
        "id": "42hMf0UrqGPs",
        "outputId": "d5e576bb-e194-45f5-e66a-2bc18cf2095b"
      },
      "source": [
        "# create confusion matrix\n",
        "\n",
        "from sklearn.metrics import confusion_matrix\n",
        "\n",
        "confusion_matrix(y_test,y_pred)"
      ],
      "execution_count": null,
      "outputs": [
        {
          "output_type": "execute_result",
          "data": {
            "text/plain": [
              "array([[19,  0,  0],\n",
              "       [ 0, 15,  0],\n",
              "       [ 0,  1, 15]])"
            ]
          },
          "metadata": {
            "tags": []
          },
          "execution_count": 12
        }
      ]
    },
    {
      "cell_type": "code",
      "metadata": {
        "colab": {
          "base_uri": "https://localhost:8080/",
          "height": 297
        },
        "id": "Yf3lZyVHrLbZ",
        "outputId": "ff23fd54-457a-41d6-cf96-8e6f9899856c"
      },
      "source": [
        "# plot visual confusion matrix\n",
        "\n",
        "from sklearn.metrics import plot_confusion_matrix\n",
        "\n",
        "plot_confusion_matrix(knn3, X_test, y_test)"
      ],
      "execution_count": null,
      "outputs": [
        {
          "output_type": "execute_result",
          "data": {
            "text/plain": [
              "<sklearn.metrics._plot.confusion_matrix.ConfusionMatrixDisplay at 0x7fa12c200410>"
            ]
          },
          "metadata": {
            "tags": []
          },
          "execution_count": 15
        },
        {
          "output_type": "display_data",
          "data": {
            "image/png": "[encoded data removed]",
            "text/plain": [
              "<Figure size 432x288 with 2 Axes>"
            ]
          },
          "metadata": {
            "tags": [],
            "needs_background": "light"
          }
        }
      ]
    },
    {
      "cell_type": "code",
      "metadata": {
        "colab": {
          "base_uri": "https://localhost:8080/"
        },
        "id": "ogFM3ol5sRzu",
        "outputId": "190fdeba-225d-4cec-d8f1-dcd9567cafb6"
      },
      "source": [
        "# Accuracy\n",
        "\n",
        "from sklearn.metrics import accuracy_score\n",
        "\n",
        "accuracy_score(y_test, y_pred)\n"
      ],
      "execution_count": null,
      "outputs": [
        {
          "output_type": "execute_result",
          "data": {
            "text/plain": [
              "0.98"
            ]
          },
          "metadata": {
            "tags": []
          },
          "execution_count": 16
        }
      ]
    },
    {
      "cell_type": "code",
      "metadata": {
        "colab": {
          "base_uri": "https://localhost:8080/"
        },
        "id": "yCVrSLmNtOSR",
        "outputId": "293a07cc-9ad6-4b72-a0ef-e7275b008e06"
      },
      "source": [
        "# Precision\n",
        "\n",
        "from sklearn.metrics import precision_score\n",
        "\n",
        "precision_score(y_test, y_pred, average=None)\n",
        "#precision_score(y_test, y_pred, average='macro')\n",
        "#precision_score(y_test, y_pred, average='micro')\n",
        "#precision_score(y_test, y_pred, average='weighted')"
      ],
      "execution_count": null,
      "outputs": [
        {
          "output_type": "execute_result",
          "data": {
            "text/plain": [
              "array([1.    , 0.9375, 1.    ])"
            ]
          },
          "metadata": {
            "tags": []
          },
          "execution_count": 43
        }
      ]
    },
    {
      "cell_type": "code",
      "metadata": {
        "colab": {
          "base_uri": "https://localhost:8080/"
        },
        "id": "NlXke3ksv_cA",
        "outputId": "5cb69379-cac7-4afa-c90a-545752cc5468"
      },
      "source": [
        "# Recall\n",
        "\n",
        "from sklearn.metrics import recall_score\n",
        "\n",
        "recall_score(y_test, y_pred, average=None)\n",
        "#recall_score(y_test, y_pred, average='macro')\n",
        "#recall_score(y_test, y_pred, average='micro')\n",
        "#recall_score(y_test, y_pred, average='weighted')"
      ],
      "execution_count": null,
      "outputs": [
        {
          "output_type": "execute_result",
          "data": {
            "text/plain": [
              "array([1.    , 1.    , 0.9375])"
            ]
          },
          "metadata": {
            "tags": []
          },
          "execution_count": 27
        }
      ]
    },
    {
      "cell_type": "code",
      "metadata": {
        "colab": {
          "base_uri": "https://localhost:8080/"
        },
        "id": "c4IM9xYCvcOB",
        "outputId": "2490a982-457a-4735-c07a-bfc4ccf51d80"
      },
      "source": [
        "# F1\n",
        "\n",
        "from sklearn.metrics import f1_score\n",
        "\n",
        "#f1_score(y_test, y_pred, average='macro')\n",
        "\n",
        "#f1_score(y_test, y_pred, average='micro')\n",
        "\n",
        "#f1_score(y_test, y_pred, average='weighted')\n",
        "\n",
        "f1_score(y_test, y_pred, average=None)"
      ],
      "execution_count": null,
      "outputs": [
        {
          "output_type": "execute_result",
          "data": {
            "text/plain": [
              "array([1.        , 0.96774194, 0.96774194])"
            ]
          },
          "metadata": {
            "tags": []
          },
          "execution_count": 31
        }
      ]
    },
    {
      "cell_type": "code",
      "metadata": {
        "colab": {
          "base_uri": "https://localhost:8080/"
        },
        "id": "094RnhRBdRIp",
        "outputId": "ac41cb3f-c803-400e-ca46-1f9c5d5e700f"
      },
      "source": [
        "# Classification_report\n",
        "\n",
        "from sklearn.metrics import classification_report\n",
        "\n",
        "target_names=['Iris-setosa', 'Iris-versicolor', 'Iris-virginica']\n",
        "print(classification_report(y_test, y_pred, target_names=target_names))"
      ],
      "execution_count": null,
      "outputs": [
        {
          "output_type": "stream",
          "text": [
            "                 precision    recall  f1-score   support\n",
            "\n",
            "    Iris-setosa       1.00      1.00      1.00        19\n",
            "Iris-versicolor       0.94      1.00      0.97        15\n",
            " Iris-virginica       1.00      0.94      0.97        16\n",
            "\n",
            "       accuracy                           0.98        50\n",
            "      macro avg       0.98      0.98      0.98        50\n",
            "   weighted avg       0.98      0.98      0.98        50\n",
            "\n"
          ],
          "name": "stdout"
        }
      ]
    }
  ]
}