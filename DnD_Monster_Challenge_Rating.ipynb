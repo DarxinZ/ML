{
  "nbformat": 4,
  "nbformat_minor": 0,
  "metadata": {
    "colab": {
      "name": "DnD_Monster_Challenge_Rating.ipynb",
      "provenance": [],
      "collapsed_sections": [],
      "mount_file_id": "16tbgO2uPr5o703sKWXbGjFJlTUabIPAc",
      "authorship_tag": "ABX9TyMIdtaxlK7BTHXhopvjqg/I",
      "include_colab_link": true
    },
    "kernelspec": {
      "name": "python3",
      "display_name": "Python 3"
    },
    "language_info": {
      "name": "python"
    }
  },
  "cells": [
    {
      "cell_type": "markdown",
      "metadata": {
        "id": "view-in-github",
        "colab_type": "text"
      },
      "source": [
        "<a href=\"https://colab.research.google.com/github/DarxinZ/ML/blob/main/DnD_Monster_Challenge_Rating.ipynb\" target=\"_parent\"><img src=\"https://colab.research.google.com/assets/colab-badge.svg\" alt=\"Open In Colab\"/></a>"
      ]
    },
    {
      "cell_type": "markdown",
      "metadata": {
        "id": "au3vvFgkbkqC"
      },
      "source": [
        "# DnD Monsters Callenge Rating Prediction...\n",
        "Prediction of Monster challenge rating by variuse monster variables and abilities\n",
        "\n",
        "![Dragon.jpg](data:image/jpeg;base64,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)\n",
        "\n"
      ]
    },
    {
      "cell_type": "markdown",
      "metadata": {
        "id": "lenab5cnwO4v"
      },
      "source": [
        ""
      ]
    },
    {
      "cell_type": "code",
      "metadata": {
        "colab": {
          "base_uri": "https://localhost:8080/"
        },
        "id": "YVmUMs-4Yqaf",
        "outputId": "d3e9ae69-724e-4c43-fe82-9bc2b785c6b9"
      },
      "source": [
        "import pandas as pd\n",
        "import numpy as np\n",
        "import matplotlib.pyplot as plt\n",
        "import seaborn as sns\n",
        "import time\n",
        "from sklearn.neighbors import KNeighborsClassifier\n",
        "from sklearn.svm import SVC\n",
        "from sklearn.model_selection import train_test_split, GridSearchCV\n",
        "from sklearn.preprocessing import minmax_scale, StandardScaler,MinMaxScaler,Normalizer,RobustScaler\n",
        "from sklearn.metrics import classification_report, plot_confusion_matrix\n",
        "from sklearn.model_selection import cross_val_score\n",
        "\n",
        "\n",
        "# source: https://www.kaggle.com/mrpantherson/dnd-5e-monsters\n",
        "df = pd.read_csv('/content/drive/MyDrive/Data/dnd_monsters.csv')\n",
        "df.columns"
      ],
      "execution_count": 298,
      "outputs": [
        {
          "output_type": "execute_result",
          "data": {
            "text/plain": [
              "Index(['name', 'url', 'cr', 'type', 'size', 'ac', 'hp', 'speed', 'align',\n",
              "       'legendary', 'source', 'str', 'dex', 'con', 'int', 'wis', 'cha'],\n",
              "      dtype='object')"
            ]
          },
          "metadata": {},
          "execution_count": 298
        }
      ]
    },
    {
      "cell_type": "markdown",
      "metadata": {
        "id": "j6zrz7r7ZzJ-"
      },
      "source": [
        "Columns explained:\n",
        "* name : Monster name - not relevant for prediction\n",
        "* url : URL source - not relevant for prediction\n",
        "* cr : Challenge Rating, how difficult is the creature to defeat (1 to 24) - will be changed to ('low', 'mid', 'high')\n",
        "* type: type of creature - not relevant for prediction\n",
        "* size: size of monster, change to numeric 1 - 6\n",
        "* ac : armor class - will be deleted, cause it's easy to change  acb by wearing different armor....\n",
        "* hp: hit points (Health)\n",
        "* speed: remove the column and make 2 new 'fly' , 'swim' - with values 0 (No) or 1(Yes) \n",
        "* align: Monster alignment - not relevant for prediction\n",
        "* legendary: is legendary Monster - change to 0 (No), 1 (Yes)\n",
        "* source: Book source - not relevant for prediction\n",
        "* 'str', 'dex', 'con', 'int', 'wis', 'cha': score abilities - will be deleted more than half of the data missing...\n"
      ]
    },
    {
      "cell_type": "code",
      "metadata": {
        "id": "t-e0E1RHrAv3",
        "colab": {
          "base_uri": "https://localhost:8080/",
          "height": 382
        },
        "outputId": "5d6d760b-ff83-4591-b6b2-80d52c75c362"
      },
      "source": [
        "df.head()"
      ],
      "execution_count": 299,
      "outputs": [
        {
          "output_type": "execute_result",
          "data": {
            "text/html": [
              "<div>\n",
              "<style scoped>\n",
              "    .dataframe tbody tr th:only-of-type {\n",
              "        vertical-align: middle;\n",
              "    }\n",
              "\n",
              "    .dataframe tbody tr th {\n",
              "        vertical-align: top;\n",
              "    }\n",
              "\n",
              "    .dataframe thead th {\n",
              "        text-align: right;\n",
              "    }\n",
              "</style>\n",
              "<table border=\"1\" class=\"dataframe\">\n",
              "  <thead>\n",
              "    <tr style=\"text-align: right;\">\n",
              "      <th></th>\n",
              "      <th>name</th>\n",
              "      <th>url</th>\n",
              "      <th>cr</th>\n",
              "      <th>type</th>\n",
              "      <th>size</th>\n",
              "      <th>ac</th>\n",
              "      <th>hp</th>\n",
              "      <th>speed</th>\n",
              "      <th>align</th>\n",
              "      <th>legendary</th>\n",
              "      <th>source</th>\n",
              "      <th>str</th>\n",
              "      <th>dex</th>\n",
              "      <th>con</th>\n",
              "      <th>int</th>\n",
              "      <th>wis</th>\n",
              "      <th>cha</th>\n",
              "    </tr>\n",
              "  </thead>\n",
              "  <tbody>\n",
              "    <tr>\n",
              "      <th>0</th>\n",
              "      <td>aarakocra</td>\n",
              "      <td>https://www.aidedd.org/dnd/monstres.php?vo=aar...</td>\n",
              "      <td>1/4</td>\n",
              "      <td>humanoid (aarakocra)</td>\n",
              "      <td>Medium</td>\n",
              "      <td>12</td>\n",
              "      <td>13</td>\n",
              "      <td>fly</td>\n",
              "      <td>neutral good</td>\n",
              "      <td>NaN</td>\n",
              "      <td>Monster Manual (BR)</td>\n",
              "      <td>10.00</td>\n",
              "      <td>14.00</td>\n",
              "      <td>10.00</td>\n",
              "      <td>11.00</td>\n",
              "      <td>12.00</td>\n",
              "      <td>11.00</td>\n",
              "    </tr>\n",
              "    <tr>\n",
              "      <th>1</th>\n",
              "      <td>abjurer</td>\n",
              "      <td>NaN</td>\n",
              "      <td>9</td>\n",
              "      <td>humanoid (any race)</td>\n",
              "      <td>Medium</td>\n",
              "      <td>12</td>\n",
              "      <td>84</td>\n",
              "      <td>NaN</td>\n",
              "      <td>any alignment</td>\n",
              "      <td>NaN</td>\n",
              "      <td>Volo's Guide to Monsters</td>\n",
              "      <td>nan</td>\n",
              "      <td>nan</td>\n",
              "      <td>nan</td>\n",
              "      <td>nan</td>\n",
              "      <td>nan</td>\n",
              "      <td>nan</td>\n",
              "    </tr>\n",
              "    <tr>\n",
              "      <th>2</th>\n",
              "      <td>aboleth</td>\n",
              "      <td>https://www.aidedd.org/dnd/monstres.php?vo=abo...</td>\n",
              "      <td>10</td>\n",
              "      <td>aberration</td>\n",
              "      <td>Large</td>\n",
              "      <td>17</td>\n",
              "      <td>135</td>\n",
              "      <td>swim</td>\n",
              "      <td>lawful evil</td>\n",
              "      <td>Legendary</td>\n",
              "      <td>Monster Manual (SRD)</td>\n",
              "      <td>21.00</td>\n",
              "      <td>9.00</td>\n",
              "      <td>15.00</td>\n",
              "      <td>18.00</td>\n",
              "      <td>15.00</td>\n",
              "      <td>18.00</td>\n",
              "    </tr>\n",
              "    <tr>\n",
              "      <th>3</th>\n",
              "      <td>abominable-yeti</td>\n",
              "      <td>NaN</td>\n",
              "      <td>9</td>\n",
              "      <td>monstrosity</td>\n",
              "      <td>Huge</td>\n",
              "      <td>15</td>\n",
              "      <td>137</td>\n",
              "      <td>NaN</td>\n",
              "      <td>chaotic evil</td>\n",
              "      <td>NaN</td>\n",
              "      <td>Monster Manual</td>\n",
              "      <td>nan</td>\n",
              "      <td>nan</td>\n",
              "      <td>nan</td>\n",
              "      <td>nan</td>\n",
              "      <td>nan</td>\n",
              "      <td>nan</td>\n",
              "    </tr>\n",
              "    <tr>\n",
              "      <th>4</th>\n",
              "      <td>acererak</td>\n",
              "      <td>NaN</td>\n",
              "      <td>23</td>\n",
              "      <td>undead</td>\n",
              "      <td>Medium</td>\n",
              "      <td>21</td>\n",
              "      <td>285</td>\n",
              "      <td>NaN</td>\n",
              "      <td>neutral evil</td>\n",
              "      <td>NaN</td>\n",
              "      <td>Adventures (Tomb of Annihilation)</td>\n",
              "      <td>nan</td>\n",
              "      <td>nan</td>\n",
              "      <td>nan</td>\n",
              "      <td>nan</td>\n",
              "      <td>nan</td>\n",
              "      <td>nan</td>\n",
              "    </tr>\n",
              "  </tbody>\n",
              "</table>\n",
              "</div>"
            ],
            "text/plain": [
              "              name  ...   cha\n",
              "0        aarakocra  ... 11.00\n",
              "1          abjurer  ...   nan\n",
              "2          aboleth  ... 18.00\n",
              "3  abominable-yeti  ...   nan\n",
              "4         acererak  ...   nan\n",
              "\n",
              "[5 rows x 17 columns]"
            ]
          },
          "metadata": {},
          "execution_count": 299
        }
      ]
    },
    {
      "cell_type": "code",
      "metadata": {
        "colab": {
          "base_uri": "https://localhost:8080/",
          "height": 300
        },
        "id": "AQmmLwSsxZv1",
        "outputId": "0321379c-d452-4619-ba8e-2354fb7e6367"
      },
      "source": [
        "df.describe().transpose()"
      ],
      "execution_count": 300,
      "outputs": [
        {
          "output_type": "execute_result",
          "data": {
            "text/html": [
              "<div>\n",
              "<style scoped>\n",
              "    .dataframe tbody tr th:only-of-type {\n",
              "        vertical-align: middle;\n",
              "    }\n",
              "\n",
              "    .dataframe tbody tr th {\n",
              "        vertical-align: top;\n",
              "    }\n",
              "\n",
              "    .dataframe thead th {\n",
              "        text-align: right;\n",
              "    }\n",
              "</style>\n",
              "<table border=\"1\" class=\"dataframe\">\n",
              "  <thead>\n",
              "    <tr style=\"text-align: right;\">\n",
              "      <th></th>\n",
              "      <th>count</th>\n",
              "      <th>mean</th>\n",
              "      <th>std</th>\n",
              "      <th>min</th>\n",
              "      <th>25%</th>\n",
              "      <th>50%</th>\n",
              "      <th>75%</th>\n",
              "      <th>max</th>\n",
              "    </tr>\n",
              "  </thead>\n",
              "  <tbody>\n",
              "    <tr>\n",
              "      <th>ac</th>\n",
              "      <td>762.00</td>\n",
              "      <td>14.58</td>\n",
              "      <td>3.14</td>\n",
              "      <td>0.00</td>\n",
              "      <td>12.00</td>\n",
              "      <td>14.00</td>\n",
              "      <td>17.00</td>\n",
              "      <td>25.00</td>\n",
              "    </tr>\n",
              "    <tr>\n",
              "      <th>hp</th>\n",
              "      <td>762.00</td>\n",
              "      <td>88.13</td>\n",
              "      <td>94.82</td>\n",
              "      <td>0.00</td>\n",
              "      <td>22.00</td>\n",
              "      <td>58.00</td>\n",
              "      <td>126.00</td>\n",
              "      <td>676.00</td>\n",
              "    </tr>\n",
              "    <tr>\n",
              "      <th>str</th>\n",
              "      <td>401.00</td>\n",
              "      <td>15.23</td>\n",
              "      <td>6.49</td>\n",
              "      <td>1.00</td>\n",
              "      <td>11.00</td>\n",
              "      <td>16.00</td>\n",
              "      <td>19.00</td>\n",
              "      <td>30.00</td>\n",
              "    </tr>\n",
              "    <tr>\n",
              "      <th>dex</th>\n",
              "      <td>401.00</td>\n",
              "      <td>12.75</td>\n",
              "      <td>3.18</td>\n",
              "      <td>1.00</td>\n",
              "      <td>10.00</td>\n",
              "      <td>13.00</td>\n",
              "      <td>15.00</td>\n",
              "      <td>28.00</td>\n",
              "    </tr>\n",
              "    <tr>\n",
              "      <th>con</th>\n",
              "      <td>401.00</td>\n",
              "      <td>15.15</td>\n",
              "      <td>4.38</td>\n",
              "      <td>8.00</td>\n",
              "      <td>12.00</td>\n",
              "      <td>14.00</td>\n",
              "      <td>17.00</td>\n",
              "      <td>30.00</td>\n",
              "    </tr>\n",
              "    <tr>\n",
              "      <th>int</th>\n",
              "      <td>401.00</td>\n",
              "      <td>8.32</td>\n",
              "      <td>5.69</td>\n",
              "      <td>1.00</td>\n",
              "      <td>3.00</td>\n",
              "      <td>8.00</td>\n",
              "      <td>12.00</td>\n",
              "      <td>26.00</td>\n",
              "    </tr>\n",
              "    <tr>\n",
              "      <th>wis</th>\n",
              "      <td>401.00</td>\n",
              "      <td>11.82</td>\n",
              "      <td>3.09</td>\n",
              "      <td>2.00</td>\n",
              "      <td>10.00</td>\n",
              "      <td>12.00</td>\n",
              "      <td>13.00</td>\n",
              "      <td>27.00</td>\n",
              "    </tr>\n",
              "    <tr>\n",
              "      <th>cha</th>\n",
              "      <td>401.00</td>\n",
              "      <td>10.10</td>\n",
              "      <td>5.70</td>\n",
              "      <td>1.00</td>\n",
              "      <td>6.00</td>\n",
              "      <td>9.00</td>\n",
              "      <td>14.00</td>\n",
              "      <td>30.00</td>\n",
              "    </tr>\n",
              "  </tbody>\n",
              "</table>\n",
              "</div>"
            ],
            "text/plain": [
              "     count  mean   std  min   25%   50%    75%    max\n",
              "ac  762.00 14.58  3.14 0.00 12.00 14.00  17.00  25.00\n",
              "hp  762.00 88.13 94.82 0.00 22.00 58.00 126.00 676.00\n",
              "str 401.00 15.23  6.49 1.00 11.00 16.00  19.00  30.00\n",
              "dex 401.00 12.75  3.18 1.00 10.00 13.00  15.00  28.00\n",
              "con 401.00 15.15  4.38 8.00 12.00 14.00  17.00  30.00\n",
              "int 401.00  8.32  5.69 1.00  3.00  8.00  12.00  26.00\n",
              "wis 401.00 11.82  3.09 2.00 10.00 12.00  13.00  27.00\n",
              "cha 401.00 10.10  5.70 1.00  6.00  9.00  14.00  30.00"
            ]
          },
          "metadata": {},
          "execution_count": 300
        }
      ]
    },
    {
      "cell_type": "code",
      "metadata": {
        "colab": {
          "base_uri": "https://localhost:8080/"
        },
        "id": "dxqyxA_Vxsjg",
        "outputId": "b87260bf-1cb9-4d3d-f930-bcb96aabb378"
      },
      "source": [
        "df.info()"
      ],
      "execution_count": 301,
      "outputs": [
        {
          "output_type": "stream",
          "text": [
            "<class 'pandas.core.frame.DataFrame'>\n",
            "RangeIndex: 762 entries, 0 to 761\n",
            "Data columns (total 17 columns):\n",
            " #   Column     Non-Null Count  Dtype  \n",
            "---  ------     --------------  -----  \n",
            " 0   name       762 non-null    object \n",
            " 1   url        401 non-null    object \n",
            " 2   cr         761 non-null    object \n",
            " 3   type       762 non-null    object \n",
            " 4   size       762 non-null    object \n",
            " 5   ac         762 non-null    int64  \n",
            " 6   hp         762 non-null    int64  \n",
            " 7   speed      248 non-null    object \n",
            " 8   align      762 non-null    object \n",
            " 9   legendary  43 non-null     object \n",
            " 10  source     762 non-null    object \n",
            " 11  str        401 non-null    float64\n",
            " 12  dex        401 non-null    float64\n",
            " 13  con        401 non-null    float64\n",
            " 14  int        401 non-null    float64\n",
            " 15  wis        401 non-null    float64\n",
            " 16  cha        401 non-null    float64\n",
            "dtypes: float64(6), int64(2), object(9)\n",
            "memory usage: 101.3+ KB\n"
          ],
          "name": "stdout"
        }
      ]
    },
    {
      "cell_type": "code",
      "metadata": {
        "colab": {
          "base_uri": "https://localhost:8080/"
        },
        "id": "IBbiEQOwzCrY",
        "outputId": "61ee5946-7d83-43b2-c343-067edc610829"
      },
      "source": [
        "# Delete Non relevant columns\n",
        "# Delete ability score - about half the data is missing....\n",
        "del df['name']\n",
        "del df['url']\n",
        "del df['type']\n",
        "del df['align']\n",
        "del df['source']\n",
        "del df['ac']\n",
        "del df['str']\n",
        "del df['dex']\n",
        "del df['con']\n",
        "del df['int']\n",
        "del df['wis']\n",
        "del df['cha']\n",
        "df.info()"
      ],
      "execution_count": 302,
      "outputs": [
        {
          "output_type": "stream",
          "text": [
            "<class 'pandas.core.frame.DataFrame'>\n",
            "RangeIndex: 762 entries, 0 to 761\n",
            "Data columns (total 5 columns):\n",
            " #   Column     Non-Null Count  Dtype \n",
            "---  ------     --------------  ----- \n",
            " 0   cr         761 non-null    object\n",
            " 1   size       762 non-null    object\n",
            " 2   hp         762 non-null    int64 \n",
            " 3   speed      248 non-null    object\n",
            " 4   legendary  43 non-null     object\n",
            "dtypes: int64(1), object(4)\n",
            "memory usage: 29.9+ KB\n"
          ],
          "name": "stdout"
        }
      ]
    },
    {
      "cell_type": "code",
      "metadata": {
        "colab": {
          "base_uri": "https://localhost:8080/"
        },
        "id": "Z6hRqYcZyVu3",
        "outputId": "dd81f5f6-2012-4f06-baaa-2eee1ce297c1"
      },
      "source": [
        "df.select_dtypes(include='object').nunique()"
      ],
      "execution_count": 303,
      "outputs": [
        {
          "output_type": "execute_result",
          "data": {
            "text/plain": [
              "cr           31\n",
              "size          6\n",
              "speed         3\n",
              "legendary     1\n",
              "dtype: int64"
            ]
          },
          "metadata": {},
          "execution_count": 303
        }
      ]
    },
    {
      "cell_type": "code",
      "metadata": {
        "colab": {
          "base_uri": "https://localhost:8080/"
        },
        "id": "_f5ptLTy38li",
        "outputId": "844034aa-7e35-43d2-c7eb-a8b961a1b512"
      },
      "source": [
        "df['size'].unique()"
      ],
      "execution_count": 304,
      "outputs": [
        {
          "output_type": "execute_result",
          "data": {
            "text/plain": [
              "array(['Medium', 'Large', 'Huge', 'Gargantuan', 'Small', 'Tiny'],\n",
              "      dtype=object)"
            ]
          },
          "metadata": {},
          "execution_count": 304
        }
      ]
    },
    {
      "cell_type": "code",
      "metadata": {
        "colab": {
          "base_uri": "https://localhost:8080/"
        },
        "id": "PW3fTT015sKI",
        "outputId": "d69e79ac-1d79-4682-cb95-0fba06d0586f"
      },
      "source": [
        "# Replace size with numbers\n",
        "df['size'] = df['size'].replace('Tiny',1)\n",
        "df['size'] = df['size'].replace('Small',2)\n",
        "df['size'] = df['size'].replace('Medium',3)\n",
        "df['size'] = df['size'].replace('Large',4)\n",
        "df['size'] = df['size'].replace('Huge',5)\n",
        "df['size'] = df['size'].replace('Gargantuan',6)\n",
        "df['size'].unique()"
      ],
      "execution_count": 305,
      "outputs": [
        {
          "output_type": "execute_result",
          "data": {
            "text/plain": [
              "array([3, 4, 5, 6, 2, 1])"
            ]
          },
          "metadata": {},
          "execution_count": 305
        }
      ]
    },
    {
      "cell_type": "code",
      "metadata": {
        "colab": {
          "base_uri": "https://localhost:8080/"
        },
        "id": "IoSZZk4M7Ld5",
        "outputId": "131a4cbe-4b49-4c93-c322-1a8b49dd2e1f"
      },
      "source": [
        "df['legendary'].unique()"
      ],
      "execution_count": 306,
      "outputs": [
        {
          "output_type": "execute_result",
          "data": {
            "text/plain": [
              "array([nan, 'Legendary'], dtype=object)"
            ]
          },
          "metadata": {},
          "execution_count": 306
        }
      ]
    },
    {
      "cell_type": "code",
      "metadata": {
        "colab": {
          "base_uri": "https://localhost:8080/"
        },
        "id": "UVCRiNiM7UUq",
        "outputId": "378b24f5-c656-47f1-814f-60e722b7b960"
      },
      "source": [
        "# Replace size with numbers\n",
        "df['legendary'] = df['legendary'].replace(np.nan,0)\n",
        "df['legendary'] = df['legendary'].replace('Legendary',1)\n",
        "df['legendary'].unique()\n",
        "\n",
        "df.info()\n"
      ],
      "execution_count": 307,
      "outputs": [
        {
          "output_type": "stream",
          "text": [
            "<class 'pandas.core.frame.DataFrame'>\n",
            "RangeIndex: 762 entries, 0 to 761\n",
            "Data columns (total 5 columns):\n",
            " #   Column     Non-Null Count  Dtype \n",
            "---  ------     --------------  ----- \n",
            " 0   cr         761 non-null    object\n",
            " 1   size       762 non-null    int64 \n",
            " 2   hp         762 non-null    int64 \n",
            " 3   speed      248 non-null    object\n",
            " 4   legendary  762 non-null    int64 \n",
            "dtypes: int64(3), object(2)\n",
            "memory usage: 29.9+ KB\n"
          ],
          "name": "stdout"
        }
      ]
    },
    {
      "cell_type": "code",
      "metadata": {
        "colab": {
          "base_uri": "https://localhost:8080/"
        },
        "id": "NTzEeWYA8ekA",
        "outputId": "8c5870fe-b604-4ff3-c674-089a21d4e85c"
      },
      "source": [
        "df['speed'].unique()"
      ],
      "execution_count": 308,
      "outputs": [
        {
          "output_type": "execute_result",
          "data": {
            "text/plain": [
              "array(['fly', nan, 'swim', 'fly, swim'], dtype=object)"
            ]
          },
          "metadata": {},
          "execution_count": 308
        }
      ]
    },
    {
      "cell_type": "code",
      "metadata": {
        "colab": {
          "base_uri": "https://localhost:8080/"
        },
        "id": "5A-y3sQD9SfC",
        "outputId": "51ea6a92-bf1e-4359-cb48-cbaf2192f410"
      },
      "source": [
        "# add 2 new columns : fly, swim - will be 0/1 according to speed column. Then drop the speed column.\n",
        "df['swim'] = 0\n",
        "df['fly'] = 0\n",
        "\n",
        "df['swim']=df['speed'].apply(lambda x: 1 if x=='swim' or x=='fly, swim' else 0)\n",
        "df['fly']=df['speed'].apply(lambda x: 1 if x=='fly' or x=='fly, swim' else 0)\n",
        "\n",
        "del df['speed']\n",
        "\n",
        "print ('swim values: ', df['swim'].unique())\n",
        "print ('fly values: ', df['fly'].unique())\n",
        "df.info()"
      ],
      "execution_count": 309,
      "outputs": [
        {
          "output_type": "stream",
          "text": [
            "swim values:  [0 1]\n",
            "fly values:  [1 0]\n",
            "<class 'pandas.core.frame.DataFrame'>\n",
            "RangeIndex: 762 entries, 0 to 761\n",
            "Data columns (total 6 columns):\n",
            " #   Column     Non-Null Count  Dtype \n",
            "---  ------     --------------  ----- \n",
            " 0   cr         761 non-null    object\n",
            " 1   size       762 non-null    int64 \n",
            " 2   hp         762 non-null    int64 \n",
            " 3   legendary  762 non-null    int64 \n",
            " 4   swim       762 non-null    int64 \n",
            " 5   fly        762 non-null    int64 \n",
            "dtypes: int64(5), object(1)\n",
            "memory usage: 35.8+ KB\n"
          ],
          "name": "stdout"
        }
      ]
    },
    {
      "cell_type": "code",
      "metadata": {
        "colab": {
          "base_uri": "https://localhost:8080/"
        },
        "id": "JbImY3BTU6gn",
        "outputId": "7c24246b-6432-4ce6-c7b8-ea0113e22227"
      },
      "source": [
        "# Possible Results (y):\n",
        "df['cr'].unique()"
      ],
      "execution_count": 310,
      "outputs": [
        {
          "output_type": "execute_result",
          "data": {
            "text/plain": [
              "array(['1/4', '9', '10', '23', '14', '17', '16', '13', '15', '2', '5',\n",
              "       '7', nan, '11', '1/2', '18', '21', '20', '22', '24', '1', '3', '6',\n",
              "       '12', '8', '0', '4', '19', '1/8', '26', '25', '30'], dtype=object)"
            ]
          },
          "metadata": {},
          "execution_count": 310
        }
      ]
    },
    {
      "cell_type": "code",
      "metadata": {
        "colab": {
          "base_uri": "https://localhost:8080/",
          "height": 666
        },
        "id": "g04ZIhdXWFq9",
        "outputId": "8cf54cb6-857c-4cce-9dfc-cc221bce1966"
      },
      "source": [
        "# Drop (1) row with cr Nan value:\n",
        "df = df[df['cr'].notna()]\n",
        "# Change cr to 3 values, low, mid, high (Challenge Rating):\n",
        "df['cr'] = df['cr'].replace(['0','1/8','1/4','1/2','1','2','3','4','5','6'],'Low CR')\n",
        "df['cr'] = df['cr'].replace(['7','8','9','10','11','12','13','14','15','16'],'Mid CR')\n",
        "df['cr'] = df['cr'].replace(['17','18','19','20','21','22','23','24','25','26','30'],'High CR')\n",
        "\n",
        "print(df['cr'].unique())\n",
        "df.info()\n",
        "df"
      ],
      "execution_count": 311,
      "outputs": [
        {
          "output_type": "stream",
          "text": [
            "['Low CR' 'Mid CR' 'High CR']\n",
            "<class 'pandas.core.frame.DataFrame'>\n",
            "Int64Index: 761 entries, 0 to 761\n",
            "Data columns (total 6 columns):\n",
            " #   Column     Non-Null Count  Dtype \n",
            "---  ------     --------------  ----- \n",
            " 0   cr         761 non-null    object\n",
            " 1   size       761 non-null    int64 \n",
            " 2   hp         761 non-null    int64 \n",
            " 3   legendary  761 non-null    int64 \n",
            " 4   swim       761 non-null    int64 \n",
            " 5   fly        761 non-null    int64 \n",
            "dtypes: int64(5), object(1)\n",
            "memory usage: 41.6+ KB\n"
          ],
          "name": "stdout"
        },
        {
          "output_type": "execute_result",
          "data": {
            "text/html": [
              "<div>\n",
              "<style scoped>\n",
              "    .dataframe tbody tr th:only-of-type {\n",
              "        vertical-align: middle;\n",
              "    }\n",
              "\n",
              "    .dataframe tbody tr th {\n",
              "        vertical-align: top;\n",
              "    }\n",
              "\n",
              "    .dataframe thead th {\n",
              "        text-align: right;\n",
              "    }\n",
              "</style>\n",
              "<table border=\"1\" class=\"dataframe\">\n",
              "  <thead>\n",
              "    <tr style=\"text-align: right;\">\n",
              "      <th></th>\n",
              "      <th>cr</th>\n",
              "      <th>size</th>\n",
              "      <th>hp</th>\n",
              "      <th>legendary</th>\n",
              "      <th>swim</th>\n",
              "      <th>fly</th>\n",
              "    </tr>\n",
              "  </thead>\n",
              "  <tbody>\n",
              "    <tr>\n",
              "      <th>0</th>\n",
              "      <td>Low CR</td>\n",
              "      <td>3</td>\n",
              "      <td>13</td>\n",
              "      <td>0</td>\n",
              "      <td>0</td>\n",
              "      <td>1</td>\n",
              "    </tr>\n",
              "    <tr>\n",
              "      <th>1</th>\n",
              "      <td>Mid CR</td>\n",
              "      <td>3</td>\n",
              "      <td>84</td>\n",
              "      <td>0</td>\n",
              "      <td>0</td>\n",
              "      <td>0</td>\n",
              "    </tr>\n",
              "    <tr>\n",
              "      <th>2</th>\n",
              "      <td>Mid CR</td>\n",
              "      <td>4</td>\n",
              "      <td>135</td>\n",
              "      <td>1</td>\n",
              "      <td>1</td>\n",
              "      <td>0</td>\n",
              "    </tr>\n",
              "    <tr>\n",
              "      <th>3</th>\n",
              "      <td>Mid CR</td>\n",
              "      <td>5</td>\n",
              "      <td>137</td>\n",
              "      <td>0</td>\n",
              "      <td>0</td>\n",
              "      <td>0</td>\n",
              "    </tr>\n",
              "    <tr>\n",
              "      <th>4</th>\n",
              "      <td>High CR</td>\n",
              "      <td>3</td>\n",
              "      <td>285</td>\n",
              "      <td>0</td>\n",
              "      <td>0</td>\n",
              "      <td>0</td>\n",
              "    </tr>\n",
              "    <tr>\n",
              "      <th>...</th>\n",
              "      <td>...</td>\n",
              "      <td>...</td>\n",
              "      <td>...</td>\n",
              "      <td>...</td>\n",
              "      <td>...</td>\n",
              "      <td>...</td>\n",
              "    </tr>\n",
              "    <tr>\n",
              "      <th>757</th>\n",
              "      <td>Low CR</td>\n",
              "      <td>3</td>\n",
              "      <td>40</td>\n",
              "      <td>0</td>\n",
              "      <td>0</td>\n",
              "      <td>0</td>\n",
              "    </tr>\n",
              "    <tr>\n",
              "      <th>758</th>\n",
              "      <td>High CR</td>\n",
              "      <td>6</td>\n",
              "      <td>307</td>\n",
              "      <td>0</td>\n",
              "      <td>1</td>\n",
              "      <td>0</td>\n",
              "    </tr>\n",
              "    <tr>\n",
              "      <th>759</th>\n",
              "      <td>High CR</td>\n",
              "      <td>4</td>\n",
              "      <td>580</td>\n",
              "      <td>1</td>\n",
              "      <td>0</td>\n",
              "      <td>1</td>\n",
              "    </tr>\n",
              "    <tr>\n",
              "      <th>760</th>\n",
              "      <td>Low CR</td>\n",
              "      <td>3</td>\n",
              "      <td>22</td>\n",
              "      <td>0</td>\n",
              "      <td>0</td>\n",
              "      <td>0</td>\n",
              "    </tr>\n",
              "    <tr>\n",
              "      <th>761</th>\n",
              "      <td>High CR</td>\n",
              "      <td>4</td>\n",
              "      <td>304</td>\n",
              "      <td>0</td>\n",
              "      <td>0</td>\n",
              "      <td>0</td>\n",
              "    </tr>\n",
              "  </tbody>\n",
              "</table>\n",
              "<p>761 rows × 6 columns</p>\n",
              "</div>"
            ],
            "text/plain": [
              "          cr  size   hp  legendary  swim  fly\n",
              "0     Low CR     3   13          0     0    1\n",
              "1     Mid CR     3   84          0     0    0\n",
              "2     Mid CR     4  135          1     1    0\n",
              "3     Mid CR     5  137          0     0    0\n",
              "4    High CR     3  285          0     0    0\n",
              "..       ...   ...  ...        ...   ...  ...\n",
              "757   Low CR     3   40          0     0    0\n",
              "758  High CR     6  307          0     1    0\n",
              "759  High CR     4  580          1     0    1\n",
              "760   Low CR     3   22          0     0    0\n",
              "761  High CR     4  304          0     0    0\n",
              "\n",
              "[761 rows x 6 columns]"
            ]
          },
          "metadata": {},
          "execution_count": 311
        }
      ]
    },
    {
      "cell_type": "code",
      "metadata": {
        "colab": {
          "base_uri": "https://localhost:8080/",
          "height": 297
        },
        "id": "X-QVrbnaaK9E",
        "outputId": "8238f372-661f-42e9-9627-c2052b434f2b"
      },
      "source": [
        " sns.countplot(x='cr',data=df)"
      ],
      "execution_count": 312,
      "outputs": [
        {
          "output_type": "execute_result",
          "data": {
            "text/plain": [
              "<matplotlib.axes._subplots.AxesSubplot at 0x7f67d6e0e850>"
            ]
          },
          "metadata": {},
          "execution_count": 312
        },
        {
          "output_type": "display_data",
          "data": {
            "image/png": "[encoded data removed]",
            "text/plain": [
              "<Figure size 432x288 with 1 Axes>"
            ]
          },
          "metadata": {
            "needs_background": "light"
          }
        }
      ]
    },
    {
      "cell_type": "markdown",
      "metadata": {
        "id": "2MXuQ4B3kwT5"
      },
      "source": [
        "We can see that most of the monsters are at lower levels (up to level 6).\n",
        "</br>Not too many Monstres pass level 18"
      ]
    },
    {
      "cell_type": "code",
      "metadata": {
        "colab": {
          "base_uri": "https://localhost:8080/"
        },
        "id": "p7pLVi7Vl4UW",
        "outputId": "70b36d5d-77fd-47c5-d334-b9ed54d5ad24"
      },
      "source": [
        "df['cr'].value_counts()"
      ],
      "execution_count": 313,
      "outputs": [
        {
          "output_type": "execute_result",
          "data": {
            "text/plain": [
              "Low CR     520\n",
              "Mid CR     180\n",
              "High CR     61\n",
              "Name: cr, dtype: int64"
            ]
          },
          "metadata": {},
          "execution_count": 313
        }
      ]
    },
    {
      "cell_type": "code",
      "metadata": {
        "colab": {
          "base_uri": "https://localhost:8080/",
          "height": 248
        },
        "id": "P1mNRKHToOoS",
        "outputId": "3ec68f7e-b2eb-484e-c7b3-cda0fbc93dd4"
      },
      "source": [
        "# Pie Chart (monster count by level groups - low, mid, high):\n",
        "low = len(df[(df['cr']=='Low CR')])\n",
        "mid = len(df[(df['cr']=='Mid CR')])\n",
        "high = len(df[(df['cr']=='High CR')])\n",
        "plt.pie([low,mid,high],labels=['<7', '7-17', '>17'],explode=[0.05,0.05,0.05] )\n",
        "plt.show()"
      ],
      "execution_count": 314,
      "outputs": [
        {
          "output_type": "display_data",
          "data": {
            "image/png": "[encoded data removed]",
            "text/plain": [
              "<Figure size 432x288 with 1 Axes>"
            ]
          },
          "metadata": {}
        }
      ]
    },
    {
      "cell_type": "code",
      "metadata": {
        "colab": {
          "base_uri": "https://localhost:8080/",
          "height": 387
        },
        "id": "S3U2Nz_Lw_PR",
        "outputId": "c6a0b694-adab-42ca-9ae8-2efee2e8fdc2"
      },
      "source": [
        "# Size of Monsters Distribution\n",
        "sns.displot(x=df['size'],kde=True, color='green',bins=6)"
      ],
      "execution_count": 315,
      "outputs": [
        {
          "output_type": "execute_result",
          "data": {
            "text/plain": [
              "<seaborn.axisgrid.FacetGrid at 0x7f67d69f2fd0>"
            ]
          },
          "metadata": {},
          "execution_count": 315
        },
        {
          "output_type": "display_data",
          "data": {
            "image/png": "[encoded data removed]",
            "text/plain": [
              "<Figure size 360x360 with 1 Axes>"
            ]
          },
          "metadata": {
            "needs_background": "light"
          }
        }
      ]
    },
    {
      "cell_type": "code",
      "metadata": {
        "colab": {
          "base_uri": "https://localhost:8080/",
          "height": 395
        },
        "id": "JNnSGJ-t1GVZ",
        "outputId": "64f9893f-8414-4130-af2d-4c633370f183"
      },
      "source": [
        "# Parameter correlation:\n",
        "plt.figure(figsize=(10,6))\n",
        "corr = df.corr()\n",
        "sns.heatmap(corr,annot=True,cmap='Blues',fmt='.2f')"
      ],
      "execution_count": 316,
      "outputs": [
        {
          "output_type": "execute_result",
          "data": {
            "text/plain": [
              "<matplotlib.axes._subplots.AxesSubplot at 0x7f67d6991150>"
            ]
          },
          "metadata": {},
          "execution_count": 316
        },
        {
          "output_type": "display_data",
          "data": {
            "image/png": "[encoded data removed]",
            "text/plain": [
              "<Figure size 720x432 with 2 Axes>"
            ]
          },
          "metadata": {
            "needs_background": "light"
          }
        }
      ]
    },
    {
      "cell_type": "markdown",
      "metadata": {
        "id": "FqywyT4bDveg"
      },
      "source": [
        "Looks like good high correlation between hitpoints(hp) and challenge rating(cr) variables - see above and below"
      ]
    },
    {
      "cell_type": "code",
      "metadata": {
        "colab": {
          "base_uri": "https://localhost:8080/",
          "height": 297
        },
        "id": "cS04nXo_C1cd",
        "outputId": "43978ecd-528f-420a-cd55-57941257d7b2"
      },
      "source": [
        "# Visualize the correlation hp-cr\n",
        "sns.barplot(x='cr', y='hp', data=df)"
      ],
      "execution_count": 317,
      "outputs": [
        {
          "output_type": "execute_result",
          "data": {
            "text/plain": [
              "<matplotlib.axes._subplots.AxesSubplot at 0x7f67d68578d0>"
            ]
          },
          "metadata": {},
          "execution_count": 317
        },
        {
          "output_type": "display_data",
          "data": {
            "image/png": "[encoded data removed]",
            "text/plain": [
              "<Figure size 432x288 with 1 Axes>"
            ]
          },
          "metadata": {
            "needs_background": "light"
          }
        }
      ]
    },
    {
      "cell_type": "code",
      "metadata": {
        "colab": {
          "base_uri": "https://localhost:8080/",
          "height": 351
        },
        "id": "Rf1CJaDnEh95",
        "outputId": "17eb3e5e-b3e5-49ab-91b7-79874fda2f67"
      },
      "source": [
        "# The scatter graph shows us many legendary (espeacialy flying) monsterts at high cr level with lots of hp \n",
        "plt.figure(figsize=(10,5))\n",
        "sns.scatterplot(x='hp', y='size', hue='cr', size='legendary', data=df)"
      ],
      "execution_count": 318,
      "outputs": [
        {
          "output_type": "execute_result",
          "data": {
            "text/plain": [
              "<matplotlib.axes._subplots.AxesSubplot at 0x7f67d6923d90>"
            ]
          },
          "metadata": {},
          "execution_count": 318
        },
        {
          "output_type": "display_data",
          "data": {
            "image/png": "[encoded data removed]",
            "text/plain": [
              "<Figure size 720x360 with 1 Axes>"
            ]
          },
          "metadata": {
            "needs_background": "light"
          }
        }
      ]
    },
    {
      "cell_type": "code",
      "metadata": {
        "colab": {
          "base_uri": "https://localhost:8080/",
          "height": 405
        },
        "id": "NGuXWXisMEJ0",
        "outputId": "eb218c7d-3fa3-4bef-8de2-793122b0d964"
      },
      "source": [
        "# Exceptional values in boxplot (for the hp-cr correlation)\n",
        "plt.figure(figsize=(6,6))\n",
        "sns.boxenplot(x='cr', y='hp', data=df)"
      ],
      "execution_count": 319,
      "outputs": [
        {
          "output_type": "execute_result",
          "data": {
            "text/plain": [
              "<matplotlib.axes._subplots.AxesSubplot at 0x7f67d67ab290>"
            ]
          },
          "metadata": {},
          "execution_count": 319
        },
        {
          "output_type": "display_data",
          "data": {
            "image/png": "[encoded data removed]",
            "text/plain": [
              "<Figure size 432x432 with 1 Axes>"
            ]
          },
          "metadata": {
            "needs_background": "light"
          }
        }
      ]
    },
    {
      "cell_type": "code",
      "metadata": {
        "colab": {
          "base_uri": "https://localhost:8080/",
          "height": 471
        },
        "id": "nM8bwt_gPEOH",
        "outputId": "faffa71f-1560-40b3-835d-52558901b296"
      },
      "source": [
        "# Exceptional values in boxplot (for the hp-cr correlation)\n",
        "plt.figure(figsize=(20,10))\n",
        "sns.violinplot(x='cr', y='size', data=df)"
      ],
      "execution_count": 320,
      "outputs": [
        {
          "output_type": "execute_result",
          "data": {
            "text/plain": [
              "<matplotlib.axes._subplots.AxesSubplot at 0x7f67d6760910>"
            ]
          },
          "metadata": {},
          "execution_count": 320
        },
        {
          "output_type": "display_data",
          "data": {
            "image/png": "[encoded data removed]",
            "text/plain": [
              "<Figure size 1440x720 with 1 Axes>"
            ]
          },
          "metadata": {
            "needs_background": "light"
          }
        }
      ]
    },
    {
      "cell_type": "code",
      "metadata": {
        "colab": {
          "base_uri": "https://localhost:8080/",
          "height": 206
        },
        "id": "XwOWMkYrRIBX",
        "outputId": "a108f884-b084-471d-f897-ea2d08a10a2e"
      },
      "source": [
        "y = df['cr']\n",
        "X = df.drop(['cr'],axis=1)\n",
        "X.corr()"
      ],
      "execution_count": 321,
      "outputs": [
        {
          "output_type": "execute_result",
          "data": {
            "text/html": [
              "<div>\n",
              "<style scoped>\n",
              "    .dataframe tbody tr th:only-of-type {\n",
              "        vertical-align: middle;\n",
              "    }\n",
              "\n",
              "    .dataframe tbody tr th {\n",
              "        vertical-align: top;\n",
              "    }\n",
              "\n",
              "    .dataframe thead th {\n",
              "        text-align: right;\n",
              "    }\n",
              "</style>\n",
              "<table border=\"1\" class=\"dataframe\">\n",
              "  <thead>\n",
              "    <tr style=\"text-align: right;\">\n",
              "      <th></th>\n",
              "      <th>size</th>\n",
              "      <th>hp</th>\n",
              "      <th>legendary</th>\n",
              "      <th>swim</th>\n",
              "      <th>fly</th>\n",
              "    </tr>\n",
              "  </thead>\n",
              "  <tbody>\n",
              "    <tr>\n",
              "      <th>size</th>\n",
              "      <td>1.00</td>\n",
              "      <td>0.65</td>\n",
              "      <td>0.34</td>\n",
              "      <td>0.16</td>\n",
              "      <td>0.11</td>\n",
              "    </tr>\n",
              "    <tr>\n",
              "      <th>hp</th>\n",
              "      <td>0.65</td>\n",
              "      <td>1.00</td>\n",
              "      <td>0.49</td>\n",
              "      <td>0.12</td>\n",
              "      <td>0.25</td>\n",
              "    </tr>\n",
              "    <tr>\n",
              "      <th>legendary</th>\n",
              "      <td>0.34</td>\n",
              "      <td>0.49</td>\n",
              "      <td>1.00</td>\n",
              "      <td>0.15</td>\n",
              "      <td>0.31</td>\n",
              "    </tr>\n",
              "    <tr>\n",
              "      <th>swim</th>\n",
              "      <td>0.16</td>\n",
              "      <td>0.12</td>\n",
              "      <td>0.15</td>\n",
              "      <td>1.00</td>\n",
              "      <td>0.03</td>\n",
              "    </tr>\n",
              "    <tr>\n",
              "      <th>fly</th>\n",
              "      <td>0.11</td>\n",
              "      <td>0.25</td>\n",
              "      <td>0.31</td>\n",
              "      <td>0.03</td>\n",
              "      <td>1.00</td>\n",
              "    </tr>\n",
              "  </tbody>\n",
              "</table>\n",
              "</div>"
            ],
            "text/plain": [
              "           size   hp  legendary  swim  fly\n",
              "size       1.00 0.65       0.34  0.16 0.11\n",
              "hp         0.65 1.00       0.49  0.12 0.25\n",
              "legendary  0.34 0.49       1.00  0.15 0.31\n",
              "swim       0.16 0.12       0.15  1.00 0.03\n",
              "fly        0.11 0.25       0.31  0.03 1.00"
            ]
          },
          "metadata": {},
          "execution_count": 321
        }
      ]
    },
    {
      "cell_type": "code",
      "metadata": {
        "colab": {
          "base_uri": "https://localhost:8080/"
        },
        "id": "vBVR40G7Vg9c",
        "outputId": "2d03c200-7dce-4dd8-8ac8-dd04e211032f"
      },
      "source": [
        "X_train,X_test,y_train,y_test = train_test_split(X,y,test_size=0.15, random_state=17)\n",
        "print(\"Train: \", X_train.shape, y_train.shape)\n",
        "print(\"Train: \", X_test.shape, y_test.shape)"
      ],
      "execution_count": 322,
      "outputs": [
        {
          "output_type": "stream",
          "text": [
            "Train:  (646, 5) (646,)\n",
            "Train:  (115, 5) (115,)\n"
          ],
          "name": "stdout"
        }
      ]
    },
    {
      "cell_type": "code",
      "metadata": {
        "id": "KDdiMjBoXY4K"
      },
      "source": [
        "# Distance calculation to Zeros \n",
        "def distance_np(np1):\n",
        "  np2 = np.zeros_like(np1)\n",
        "  return np.linalg.norm(np1-np2)"
      ],
      "execution_count": 323,
      "outputs": []
    },
    {
      "cell_type": "code",
      "metadata": {
        "colab": {
          "base_uri": "https://localhost:8080/",
          "height": 206
        },
        "id": "nQ_khvFsZ1P_",
        "outputId": "f0fe531d-caae-44b9-bc56-8a8603a6c226"
      },
      "source": [
        "# Show stat info:\n",
        "pd.options.display.float_format = '{:,.2f}'.format\n",
        "pd.DataFrame(X_train).describe().transpose()"
      ],
      "execution_count": 324,
      "outputs": [
        {
          "output_type": "execute_result",
          "data": {
            "text/html": [
              "<div>\n",
              "<style scoped>\n",
              "    .dataframe tbody tr th:only-of-type {\n",
              "        vertical-align: middle;\n",
              "    }\n",
              "\n",
              "    .dataframe tbody tr th {\n",
              "        vertical-align: top;\n",
              "    }\n",
              "\n",
              "    .dataframe thead th {\n",
              "        text-align: right;\n",
              "    }\n",
              "</style>\n",
              "<table border=\"1\" class=\"dataframe\">\n",
              "  <thead>\n",
              "    <tr style=\"text-align: right;\">\n",
              "      <th></th>\n",
              "      <th>count</th>\n",
              "      <th>mean</th>\n",
              "      <th>std</th>\n",
              "      <th>min</th>\n",
              "      <th>25%</th>\n",
              "      <th>50%</th>\n",
              "      <th>75%</th>\n",
              "      <th>max</th>\n",
              "    </tr>\n",
              "  </thead>\n",
              "  <tbody>\n",
              "    <tr>\n",
              "      <th>size</th>\n",
              "      <td>646.00</td>\n",
              "      <td>3.38</td>\n",
              "      <td>1.04</td>\n",
              "      <td>1.00</td>\n",
              "      <td>3.00</td>\n",
              "      <td>3.00</td>\n",
              "      <td>4.00</td>\n",
              "      <td>6.00</td>\n",
              "    </tr>\n",
              "    <tr>\n",
              "      <th>hp</th>\n",
              "      <td>646.00</td>\n",
              "      <td>89.26</td>\n",
              "      <td>94.74</td>\n",
              "      <td>1.00</td>\n",
              "      <td>22.00</td>\n",
              "      <td>58.50</td>\n",
              "      <td>126.00</td>\n",
              "      <td>676.00</td>\n",
              "    </tr>\n",
              "    <tr>\n",
              "      <th>legendary</th>\n",
              "      <td>646.00</td>\n",
              "      <td>0.06</td>\n",
              "      <td>0.23</td>\n",
              "      <td>0.00</td>\n",
              "      <td>0.00</td>\n",
              "      <td>0.00</td>\n",
              "      <td>0.00</td>\n",
              "      <td>1.00</td>\n",
              "    </tr>\n",
              "    <tr>\n",
              "      <th>swim</th>\n",
              "      <td>646.00</td>\n",
              "      <td>0.13</td>\n",
              "      <td>0.33</td>\n",
              "      <td>0.00</td>\n",
              "      <td>0.00</td>\n",
              "      <td>0.00</td>\n",
              "      <td>0.00</td>\n",
              "      <td>1.00</td>\n",
              "    </tr>\n",
              "    <tr>\n",
              "      <th>fly</th>\n",
              "      <td>646.00</td>\n",
              "      <td>0.23</td>\n",
              "      <td>0.42</td>\n",
              "      <td>0.00</td>\n",
              "      <td>0.00</td>\n",
              "      <td>0.00</td>\n",
              "      <td>0.00</td>\n",
              "      <td>1.00</td>\n",
              "    </tr>\n",
              "  </tbody>\n",
              "</table>\n",
              "</div>"
            ],
            "text/plain": [
              "           count  mean   std  min   25%   50%    75%    max\n",
              "size      646.00  3.38  1.04 1.00  3.00  3.00   4.00   6.00\n",
              "hp        646.00 89.26 94.74 1.00 22.00 58.50 126.00 676.00\n",
              "legendary 646.00  0.06  0.23 0.00  0.00  0.00   0.00   1.00\n",
              "swim      646.00  0.13  0.33 0.00  0.00  0.00   0.00   1.00\n",
              "fly       646.00  0.23  0.42 0.00  0.00  0.00   0.00   1.00"
            ]
          },
          "metadata": {},
          "execution_count": 324
        }
      ]
    },
    {
      "cell_type": "code",
      "metadata": {
        "id": "9bGfIMMFakWg"
      },
      "source": [
        "#scaler = StandardScaler() # 0.87\n",
        "#scaler = Normalizer() # 0.89\n",
        "#scaler = MinMaxScaler() # 0.86\n",
        "scaler = RobustScaler() # 0.90"
      ],
      "execution_count": 325,
      "outputs": []
    },
    {
      "cell_type": "code",
      "metadata": {
        "colab": {
          "base_uri": "https://localhost:8080/",
          "height": 206
        },
        "id": "H7yMrTl1bdiS",
        "outputId": "a4584027-9c9f-43d6-854e-3ff5919b7d7c"
      },
      "source": [
        "# Fit & transform\n",
        "X_train = scaler.fit_transform(X_train)\n",
        "X_test = scaler.transform(X_test)\n",
        "pd.DataFrame(X_train).describe().transpose()"
      ],
      "execution_count": 326,
      "outputs": [
        {
          "output_type": "execute_result",
          "data": {
            "text/html": [
              "<div>\n",
              "<style scoped>\n",
              "    .dataframe tbody tr th:only-of-type {\n",
              "        vertical-align: middle;\n",
              "    }\n",
              "\n",
              "    .dataframe tbody tr th {\n",
              "        vertical-align: top;\n",
              "    }\n",
              "\n",
              "    .dataframe thead th {\n",
              "        text-align: right;\n",
              "    }\n",
              "</style>\n",
              "<table border=\"1\" class=\"dataframe\">\n",
              "  <thead>\n",
              "    <tr style=\"text-align: right;\">\n",
              "      <th></th>\n",
              "      <th>count</th>\n",
              "      <th>mean</th>\n",
              "      <th>std</th>\n",
              "      <th>min</th>\n",
              "      <th>25%</th>\n",
              "      <th>50%</th>\n",
              "      <th>75%</th>\n",
              "      <th>max</th>\n",
              "    </tr>\n",
              "  </thead>\n",
              "  <tbody>\n",
              "    <tr>\n",
              "      <th>0</th>\n",
              "      <td>646.00</td>\n",
              "      <td>0.38</td>\n",
              "      <td>1.04</td>\n",
              "      <td>-2.00</td>\n",
              "      <td>0.00</td>\n",
              "      <td>0.00</td>\n",
              "      <td>1.00</td>\n",
              "      <td>3.00</td>\n",
              "    </tr>\n",
              "    <tr>\n",
              "      <th>1</th>\n",
              "      <td>646.00</td>\n",
              "      <td>0.30</td>\n",
              "      <td>0.91</td>\n",
              "      <td>-0.55</td>\n",
              "      <td>-0.35</td>\n",
              "      <td>0.00</td>\n",
              "      <td>0.65</td>\n",
              "      <td>5.94</td>\n",
              "    </tr>\n",
              "    <tr>\n",
              "      <th>2</th>\n",
              "      <td>646.00</td>\n",
              "      <td>0.06</td>\n",
              "      <td>0.23</td>\n",
              "      <td>0.00</td>\n",
              "      <td>0.00</td>\n",
              "      <td>0.00</td>\n",
              "      <td>0.00</td>\n",
              "      <td>1.00</td>\n",
              "    </tr>\n",
              "    <tr>\n",
              "      <th>3</th>\n",
              "      <td>646.00</td>\n",
              "      <td>0.13</td>\n",
              "      <td>0.33</td>\n",
              "      <td>0.00</td>\n",
              "      <td>0.00</td>\n",
              "      <td>0.00</td>\n",
              "      <td>0.00</td>\n",
              "      <td>1.00</td>\n",
              "    </tr>\n",
              "    <tr>\n",
              "      <th>4</th>\n",
              "      <td>646.00</td>\n",
              "      <td>0.23</td>\n",
              "      <td>0.42</td>\n",
              "      <td>0.00</td>\n",
              "      <td>0.00</td>\n",
              "      <td>0.00</td>\n",
              "      <td>0.00</td>\n",
              "      <td>1.00</td>\n",
              "    </tr>\n",
              "  </tbody>\n",
              "</table>\n",
              "</div>"
            ],
            "text/plain": [
              "   count  mean  std   min   25%  50%  75%  max\n",
              "0 646.00  0.38 1.04 -2.00  0.00 0.00 1.00 3.00\n",
              "1 646.00  0.30 0.91 -0.55 -0.35 0.00 0.65 5.94\n",
              "2 646.00  0.06 0.23  0.00  0.00 0.00 0.00 1.00\n",
              "3 646.00  0.13 0.33  0.00  0.00 0.00 0.00 1.00\n",
              "4 646.00  0.23 0.42  0.00  0.00 0.00 0.00 1.00"
            ]
          },
          "metadata": {},
          "execution_count": 326
        }
      ]
    },
    {
      "cell_type": "code",
      "metadata": {
        "colab": {
          "base_uri": "https://localhost:8080/"
        },
        "id": "7UDfxsiQcda-",
        "outputId": "16381cbf-aa5f-4c0d-8f4f-00321a4f548c"
      },
      "source": [
        "# check some of the distances to make sure it's not too far apart...\n",
        "pd.DataFrame(X_train[:17]).apply(lambda np1: distance_np(np1),axis=1)"
      ],
      "execution_count": 327,
      "outputs": [
        {
          "output_type": "execute_result",
          "data": {
            "text/plain": [
              "0    2.24\n",
              "1    1.11\n",
              "2    0.66\n",
              "3    0.33\n",
              "4    0.16\n",
              "5    1.02\n",
              "6    3.86\n",
              "7    1.46\n",
              "8    1.20\n",
              "9    2.34\n",
              "10   0.66\n",
              "11   1.04\n",
              "12   1.46\n",
              "13   1.04\n",
              "14   1.42\n",
              "15   1.42\n",
              "16   1.07\n",
              "dtype: float64"
            ]
          },
          "metadata": {},
          "execution_count": 327
        }
      ]
    },
    {
      "cell_type": "code",
      "metadata": {
        "colab": {
          "base_uri": "https://localhost:8080/",
          "height": 354
        },
        "id": "_Hz7GY9DeaGM",
        "outputId": "a3b0982d-49c9-42ca-d0a8-1c79a94255f8"
      },
      "source": [
        "print('Shape: ', X_train.shape, y_train.shape)\n",
        "calcTime = time.time()\n",
        "params = {\n",
        "    'algorithm': ['ball_tree','kd_tree','brute'],\n",
        "    'n_neighbors': [3,5,10,15,30], \n",
        "    'weights': ['uniform','distance']\n",
        "}\n",
        "myKnn = GridSearchCV(KNeighborsClassifier(),params,cv=5)\n",
        "myKnn.fit(X_train,y_train)\n",
        "calcTime = time.time() - calcTime\n",
        "print ('Train time: {:2f}'.format(calcTime))\n",
        "results = pd.DataFrame(myKnn.cv_results_)\n",
        "results.head(3)"
      ],
      "execution_count": 328,
      "outputs": [
        {
          "output_type": "stream",
          "text": [
            "Shape:  (646, 5) (646,)\n",
            "Train time: 1.119589\n"
          ],
          "name": "stdout"
        },
        {
          "output_type": "execute_result",
          "data": {
            "text/html": [
              "<div>\n",
              "<style scoped>\n",
              "    .dataframe tbody tr th:only-of-type {\n",
              "        vertical-align: middle;\n",
              "    }\n",
              "\n",
              "    .dataframe tbody tr th {\n",
              "        vertical-align: top;\n",
              "    }\n",
              "\n",
              "    .dataframe thead th {\n",
              "        text-align: right;\n",
              "    }\n",
              "</style>\n",
              "<table border=\"1\" class=\"dataframe\">\n",
              "  <thead>\n",
              "    <tr style=\"text-align: right;\">\n",
              "      <th></th>\n",
              "      <th>mean_fit_time</th>\n",
              "      <th>std_fit_time</th>\n",
              "      <th>mean_score_time</th>\n",
              "      <th>std_score_time</th>\n",
              "      <th>param_algorithm</th>\n",
              "      <th>param_n_neighbors</th>\n",
              "      <th>param_weights</th>\n",
              "      <th>params</th>\n",
              "      <th>split0_test_score</th>\n",
              "      <th>split1_test_score</th>\n",
              "      <th>split2_test_score</th>\n",
              "      <th>split3_test_score</th>\n",
              "      <th>split4_test_score</th>\n",
              "      <th>mean_test_score</th>\n",
              "      <th>std_test_score</th>\n",
              "      <th>rank_test_score</th>\n",
              "    </tr>\n",
              "  </thead>\n",
              "  <tbody>\n",
              "    <tr>\n",
              "      <th>0</th>\n",
              "      <td>0.00</td>\n",
              "      <td>0.00</td>\n",
              "      <td>0.01</td>\n",
              "      <td>0.00</td>\n",
              "      <td>ball_tree</td>\n",
              "      <td>3</td>\n",
              "      <td>uniform</td>\n",
              "      <td>{'algorithm': 'ball_tree', 'n_neighbors': 3, '...</td>\n",
              "      <td>0.85</td>\n",
              "      <td>0.90</td>\n",
              "      <td>0.86</td>\n",
              "      <td>0.83</td>\n",
              "      <td>0.88</td>\n",
              "      <td>0.86</td>\n",
              "      <td>0.03</td>\n",
              "      <td>21</td>\n",
              "    </tr>\n",
              "    <tr>\n",
              "      <th>1</th>\n",
              "      <td>0.00</td>\n",
              "      <td>0.00</td>\n",
              "      <td>0.00</td>\n",
              "      <td>0.00</td>\n",
              "      <td>ball_tree</td>\n",
              "      <td>3</td>\n",
              "      <td>distance</td>\n",
              "      <td>{'algorithm': 'ball_tree', 'n_neighbors': 3, '...</td>\n",
              "      <td>0.82</td>\n",
              "      <td>0.88</td>\n",
              "      <td>0.84</td>\n",
              "      <td>0.81</td>\n",
              "      <td>0.88</td>\n",
              "      <td>0.85</td>\n",
              "      <td>0.03</td>\n",
              "      <td>30</td>\n",
              "    </tr>\n",
              "    <tr>\n",
              "      <th>2</th>\n",
              "      <td>0.00</td>\n",
              "      <td>0.00</td>\n",
              "      <td>0.01</td>\n",
              "      <td>0.00</td>\n",
              "      <td>ball_tree</td>\n",
              "      <td>5</td>\n",
              "      <td>uniform</td>\n",
              "      <td>{'algorithm': 'ball_tree', 'n_neighbors': 5, '...</td>\n",
              "      <td>0.85</td>\n",
              "      <td>0.88</td>\n",
              "      <td>0.87</td>\n",
              "      <td>0.88</td>\n",
              "      <td>0.90</td>\n",
              "      <td>0.87</td>\n",
              "      <td>0.02</td>\n",
              "      <td>11</td>\n",
              "    </tr>\n",
              "  </tbody>\n",
              "</table>\n",
              "</div>"
            ],
            "text/plain": [
              "   mean_fit_time  std_fit_time  ...  std_test_score  rank_test_score\n",
              "0           0.00          0.00  ...            0.03               21\n",
              "1           0.00          0.00  ...            0.03               30\n",
              "2           0.00          0.00  ...            0.02               11\n",
              "\n",
              "[3 rows x 16 columns]"
            ]
          },
          "metadata": {},
          "execution_count": 328
        }
      ]
    },
    {
      "cell_type": "code",
      "metadata": {
        "colab": {
          "base_uri": "https://localhost:8080/",
          "height": 989
        },
        "id": "NslY1GuUGNH3",
        "outputId": "9db4cdbf-2fe9-4720-c068-9dd386308ae4"
      },
      "source": [
        "\n",
        "results[['param_algorithm','param_n_neighbors','param_weights','mean_test_score','rank_test_score']]"
      ],
      "execution_count": 329,
      "outputs": [
        {
          "output_type": "execute_result",
          "data": {
            "text/html": [
              "<div>\n",
              "<style scoped>\n",
              "    .dataframe tbody tr th:only-of-type {\n",
              "        vertical-align: middle;\n",
              "    }\n",
              "\n",
              "    .dataframe tbody tr th {\n",
              "        vertical-align: top;\n",
              "    }\n",
              "\n",
              "    .dataframe thead th {\n",
              "        text-align: right;\n",
              "    }\n",
              "</style>\n",
              "<table border=\"1\" class=\"dataframe\">\n",
              "  <thead>\n",
              "    <tr style=\"text-align: right;\">\n",
              "      <th></th>\n",
              "      <th>param_algorithm</th>\n",
              "      <th>param_n_neighbors</th>\n",
              "      <th>param_weights</th>\n",
              "      <th>mean_test_score</th>\n",
              "      <th>rank_test_score</th>\n",
              "    </tr>\n",
              "  </thead>\n",
              "  <tbody>\n",
              "    <tr>\n",
              "      <th>0</th>\n",
              "      <td>ball_tree</td>\n",
              "      <td>3</td>\n",
              "      <td>uniform</td>\n",
              "      <td>0.86</td>\n",
              "      <td>21</td>\n",
              "    </tr>\n",
              "    <tr>\n",
              "      <th>1</th>\n",
              "      <td>ball_tree</td>\n",
              "      <td>3</td>\n",
              "      <td>distance</td>\n",
              "      <td>0.85</td>\n",
              "      <td>30</td>\n",
              "    </tr>\n",
              "    <tr>\n",
              "      <th>2</th>\n",
              "      <td>ball_tree</td>\n",
              "      <td>5</td>\n",
              "      <td>uniform</td>\n",
              "      <td>0.87</td>\n",
              "      <td>11</td>\n",
              "    </tr>\n",
              "    <tr>\n",
              "      <th>3</th>\n",
              "      <td>ball_tree</td>\n",
              "      <td>5</td>\n",
              "      <td>distance</td>\n",
              "      <td>0.86</td>\n",
              "      <td>26</td>\n",
              "    </tr>\n",
              "    <tr>\n",
              "      <th>4</th>\n",
              "      <td>ball_tree</td>\n",
              "      <td>10</td>\n",
              "      <td>uniform</td>\n",
              "      <td>0.89</td>\n",
              "      <td>2</td>\n",
              "    </tr>\n",
              "    <tr>\n",
              "      <th>5</th>\n",
              "      <td>ball_tree</td>\n",
              "      <td>10</td>\n",
              "      <td>distance</td>\n",
              "      <td>0.87</td>\n",
              "      <td>14</td>\n",
              "    </tr>\n",
              "    <tr>\n",
              "      <th>6</th>\n",
              "      <td>ball_tree</td>\n",
              "      <td>15</td>\n",
              "      <td>uniform</td>\n",
              "      <td>0.89</td>\n",
              "      <td>7</td>\n",
              "    </tr>\n",
              "    <tr>\n",
              "      <th>7</th>\n",
              "      <td>ball_tree</td>\n",
              "      <td>15</td>\n",
              "      <td>distance</td>\n",
              "      <td>0.87</td>\n",
              "      <td>16</td>\n",
              "    </tr>\n",
              "    <tr>\n",
              "      <th>8</th>\n",
              "      <td>ball_tree</td>\n",
              "      <td>30</td>\n",
              "      <td>uniform</td>\n",
              "      <td>0.89</td>\n",
              "      <td>4</td>\n",
              "    </tr>\n",
              "    <tr>\n",
              "      <th>9</th>\n",
              "      <td>ball_tree</td>\n",
              "      <td>30</td>\n",
              "      <td>distance</td>\n",
              "      <td>0.86</td>\n",
              "      <td>23</td>\n",
              "    </tr>\n",
              "    <tr>\n",
              "      <th>10</th>\n",
              "      <td>kd_tree</td>\n",
              "      <td>3</td>\n",
              "      <td>uniform</td>\n",
              "      <td>0.87</td>\n",
              "      <td>20</td>\n",
              "    </tr>\n",
              "    <tr>\n",
              "      <th>11</th>\n",
              "      <td>kd_tree</td>\n",
              "      <td>3</td>\n",
              "      <td>distance</td>\n",
              "      <td>0.85</td>\n",
              "      <td>29</td>\n",
              "    </tr>\n",
              "    <tr>\n",
              "      <th>12</th>\n",
              "      <td>kd_tree</td>\n",
              "      <td>5</td>\n",
              "      <td>uniform</td>\n",
              "      <td>0.88</td>\n",
              "      <td>10</td>\n",
              "    </tr>\n",
              "    <tr>\n",
              "      <th>13</th>\n",
              "      <td>kd_tree</td>\n",
              "      <td>5</td>\n",
              "      <td>distance</td>\n",
              "      <td>0.86</td>\n",
              "      <td>22</td>\n",
              "    </tr>\n",
              "    <tr>\n",
              "      <th>14</th>\n",
              "      <td>kd_tree</td>\n",
              "      <td>10</td>\n",
              "      <td>uniform</td>\n",
              "      <td>0.89</td>\n",
              "      <td>2</td>\n",
              "    </tr>\n",
              "    <tr>\n",
              "      <th>15</th>\n",
              "      <td>kd_tree</td>\n",
              "      <td>10</td>\n",
              "      <td>distance</td>\n",
              "      <td>0.87</td>\n",
              "      <td>14</td>\n",
              "    </tr>\n",
              "    <tr>\n",
              "      <th>16</th>\n",
              "      <td>kd_tree</td>\n",
              "      <td>15</td>\n",
              "      <td>uniform</td>\n",
              "      <td>0.89</td>\n",
              "      <td>7</td>\n",
              "    </tr>\n",
              "    <tr>\n",
              "      <th>17</th>\n",
              "      <td>kd_tree</td>\n",
              "      <td>15</td>\n",
              "      <td>distance</td>\n",
              "      <td>0.87</td>\n",
              "      <td>16</td>\n",
              "    </tr>\n",
              "    <tr>\n",
              "      <th>18</th>\n",
              "      <td>kd_tree</td>\n",
              "      <td>30</td>\n",
              "      <td>uniform</td>\n",
              "      <td>0.89</td>\n",
              "      <td>4</td>\n",
              "    </tr>\n",
              "    <tr>\n",
              "      <th>19</th>\n",
              "      <td>kd_tree</td>\n",
              "      <td>30</td>\n",
              "      <td>distance</td>\n",
              "      <td>0.86</td>\n",
              "      <td>23</td>\n",
              "    </tr>\n",
              "    <tr>\n",
              "      <th>20</th>\n",
              "      <td>brute</td>\n",
              "      <td>3</td>\n",
              "      <td>uniform</td>\n",
              "      <td>0.87</td>\n",
              "      <td>13</td>\n",
              "    </tr>\n",
              "    <tr>\n",
              "      <th>21</th>\n",
              "      <td>brute</td>\n",
              "      <td>3</td>\n",
              "      <td>distance</td>\n",
              "      <td>0.85</td>\n",
              "      <td>28</td>\n",
              "    </tr>\n",
              "    <tr>\n",
              "      <th>22</th>\n",
              "      <td>brute</td>\n",
              "      <td>5</td>\n",
              "      <td>uniform</td>\n",
              "      <td>0.87</td>\n",
              "      <td>12</td>\n",
              "    </tr>\n",
              "    <tr>\n",
              "      <th>23</th>\n",
              "      <td>brute</td>\n",
              "      <td>5</td>\n",
              "      <td>distance</td>\n",
              "      <td>0.86</td>\n",
              "      <td>27</td>\n",
              "    </tr>\n",
              "    <tr>\n",
              "      <th>24</th>\n",
              "      <td>brute</td>\n",
              "      <td>10</td>\n",
              "      <td>uniform</td>\n",
              "      <td>0.90</td>\n",
              "      <td>1</td>\n",
              "    </tr>\n",
              "    <tr>\n",
              "      <th>25</th>\n",
              "      <td>brute</td>\n",
              "      <td>10</td>\n",
              "      <td>distance</td>\n",
              "      <td>0.87</td>\n",
              "      <td>16</td>\n",
              "    </tr>\n",
              "    <tr>\n",
              "      <th>26</th>\n",
              "      <td>brute</td>\n",
              "      <td>15</td>\n",
              "      <td>uniform</td>\n",
              "      <td>0.88</td>\n",
              "      <td>9</td>\n",
              "    </tr>\n",
              "    <tr>\n",
              "      <th>27</th>\n",
              "      <td>brute</td>\n",
              "      <td>15</td>\n",
              "      <td>distance</td>\n",
              "      <td>0.87</td>\n",
              "      <td>16</td>\n",
              "    </tr>\n",
              "    <tr>\n",
              "      <th>28</th>\n",
              "      <td>brute</td>\n",
              "      <td>30</td>\n",
              "      <td>uniform</td>\n",
              "      <td>0.89</td>\n",
              "      <td>4</td>\n",
              "    </tr>\n",
              "    <tr>\n",
              "      <th>29</th>\n",
              "      <td>brute</td>\n",
              "      <td>30</td>\n",
              "      <td>distance</td>\n",
              "      <td>0.86</td>\n",
              "      <td>23</td>\n",
              "    </tr>\n",
              "  </tbody>\n",
              "</table>\n",
              "</div>"
            ],
            "text/plain": [
              "   param_algorithm param_n_neighbors  ... mean_test_score  rank_test_score\n",
              "0        ball_tree                 3  ...            0.86               21\n",
              "1        ball_tree                 3  ...            0.85               30\n",
              "2        ball_tree                 5  ...            0.87               11\n",
              "3        ball_tree                 5  ...            0.86               26\n",
              "4        ball_tree                10  ...            0.89                2\n",
              "5        ball_tree                10  ...            0.87               14\n",
              "6        ball_tree                15  ...            0.89                7\n",
              "7        ball_tree                15  ...            0.87               16\n",
              "8        ball_tree                30  ...            0.89                4\n",
              "9        ball_tree                30  ...            0.86               23\n",
              "10         kd_tree                 3  ...            0.87               20\n",
              "11         kd_tree                 3  ...            0.85               29\n",
              "12         kd_tree                 5  ...            0.88               10\n",
              "13         kd_tree                 5  ...            0.86               22\n",
              "14         kd_tree                10  ...            0.89                2\n",
              "15         kd_tree                10  ...            0.87               14\n",
              "16         kd_tree                15  ...            0.89                7\n",
              "17         kd_tree                15  ...            0.87               16\n",
              "18         kd_tree                30  ...            0.89                4\n",
              "19         kd_tree                30  ...            0.86               23\n",
              "20           brute                 3  ...            0.87               13\n",
              "21           brute                 3  ...            0.85               28\n",
              "22           brute                 5  ...            0.87               12\n",
              "23           brute                 5  ...            0.86               27\n",
              "24           brute                10  ...            0.90                1\n",
              "25           brute                10  ...            0.87               16\n",
              "26           brute                15  ...            0.88                9\n",
              "27           brute                15  ...            0.87               16\n",
              "28           brute                30  ...            0.89                4\n",
              "29           brute                30  ...            0.86               23\n",
              "\n",
              "[30 rows x 5 columns]"
            ]
          },
          "metadata": {},
          "execution_count": 329
        }
      ]
    },
    {
      "cell_type": "code",
      "metadata": {
        "colab": {
          "base_uri": "https://localhost:8080/"
        },
        "id": "IBVRSO4MxTRH",
        "outputId": "54a4c829-8baa-4ac9-d7c9-661d9e28f1b7"
      },
      "source": [
        "# Those are the best Params:\n",
        "myKnn.best_params_"
      ],
      "execution_count": 330,
      "outputs": [
        {
          "output_type": "execute_result",
          "data": {
            "text/plain": [
              "{'algorithm': 'brute', 'n_neighbors': 10, 'weights': 'uniform'}"
            ]
          },
          "metadata": {},
          "execution_count": 330
        }
      ]
    },
    {
      "cell_type": "code",
      "metadata": {
        "colab": {
          "base_uri": "https://localhost:8080/",
          "height": 175
        },
        "id": "nqEoX0sqyZk-",
        "outputId": "fe22188a-cad3-41ea-ef36-0d5b69c5ed14"
      },
      "source": [
        "# Average score of the algorithems:\n",
        "results[['param_algorithm', 'mean_test_score']].groupby('param_algorithm').mean('mean_test_score')\n"
      ],
      "execution_count": 331,
      "outputs": [
        {
          "output_type": "execute_result",
          "data": {
            "text/html": [
              "<div>\n",
              "<style scoped>\n",
              "    .dataframe tbody tr th:only-of-type {\n",
              "        vertical-align: middle;\n",
              "    }\n",
              "\n",
              "    .dataframe tbody tr th {\n",
              "        vertical-align: top;\n",
              "    }\n",
              "\n",
              "    .dataframe thead th {\n",
              "        text-align: right;\n",
              "    }\n",
              "</style>\n",
              "<table border=\"1\" class=\"dataframe\">\n",
              "  <thead>\n",
              "    <tr style=\"text-align: right;\">\n",
              "      <th></th>\n",
              "      <th>mean_test_score</th>\n",
              "    </tr>\n",
              "    <tr>\n",
              "      <th>param_algorithm</th>\n",
              "      <th></th>\n",
              "    </tr>\n",
              "  </thead>\n",
              "  <tbody>\n",
              "    <tr>\n",
              "      <th>ball_tree</th>\n",
              "      <td>0.87</td>\n",
              "    </tr>\n",
              "    <tr>\n",
              "      <th>brute</th>\n",
              "      <td>0.87</td>\n",
              "    </tr>\n",
              "    <tr>\n",
              "      <th>kd_tree</th>\n",
              "      <td>0.87</td>\n",
              "    </tr>\n",
              "  </tbody>\n",
              "</table>\n",
              "</div>"
            ],
            "text/plain": [
              "                 mean_test_score\n",
              "param_algorithm                 \n",
              "ball_tree                   0.87\n",
              "brute                       0.87\n",
              "kd_tree                     0.87"
            ]
          },
          "metadata": {},
          "execution_count": 331
        }
      ]
    },
    {
      "cell_type": "markdown",
      "metadata": {
        "id": "oTQsq4VvztxK"
      },
      "source": [
        "we can see that we found the best combination using brute algorithem, however, the mean of all algorithm results is the same for all of them. we will use the best..."
      ]
    },
    {
      "cell_type": "code",
      "metadata": {
        "colab": {
          "base_uri": "https://localhost:8080/",
          "height": 237
        },
        "id": "xE0-Paod0D5-",
        "outputId": "0273e8e1-51aa-497c-8c3b-f0b93eb59fe1"
      },
      "source": [
        "# Average score of the number of neighbors:\n",
        "results[['param_n_neighbors', 'mean_test_score']].groupby('param_n_neighbors').mean('mean_test_score')"
      ],
      "execution_count": 332,
      "outputs": [
        {
          "output_type": "execute_result",
          "data": {
            "text/html": [
              "<div>\n",
              "<style scoped>\n",
              "    .dataframe tbody tr th:only-of-type {\n",
              "        vertical-align: middle;\n",
              "    }\n",
              "\n",
              "    .dataframe tbody tr th {\n",
              "        vertical-align: top;\n",
              "    }\n",
              "\n",
              "    .dataframe thead th {\n",
              "        text-align: right;\n",
              "    }\n",
              "</style>\n",
              "<table border=\"1\" class=\"dataframe\">\n",
              "  <thead>\n",
              "    <tr style=\"text-align: right;\">\n",
              "      <th></th>\n",
              "      <th>mean_test_score</th>\n",
              "    </tr>\n",
              "    <tr>\n",
              "      <th>param_n_neighbors</th>\n",
              "      <th></th>\n",
              "    </tr>\n",
              "  </thead>\n",
              "  <tbody>\n",
              "    <tr>\n",
              "      <th>3</th>\n",
              "      <td>0.86</td>\n",
              "    </tr>\n",
              "    <tr>\n",
              "      <th>5</th>\n",
              "      <td>0.87</td>\n",
              "    </tr>\n",
              "    <tr>\n",
              "      <th>10</th>\n",
              "      <td>0.88</td>\n",
              "    </tr>\n",
              "    <tr>\n",
              "      <th>15</th>\n",
              "      <td>0.88</td>\n",
              "    </tr>\n",
              "    <tr>\n",
              "      <th>30</th>\n",
              "      <td>0.87</td>\n",
              "    </tr>\n",
              "  </tbody>\n",
              "</table>\n",
              "</div>"
            ],
            "text/plain": [
              "                   mean_test_score\n",
              "param_n_neighbors                 \n",
              "3                             0.86\n",
              "5                             0.87\n",
              "10                            0.88\n",
              "15                            0.88\n",
              "30                            0.87"
            ]
          },
          "metadata": {},
          "execution_count": 332
        }
      ]
    },
    {
      "cell_type": "markdown",
      "metadata": {
        "id": "DxliZX6S0r0G"
      },
      "source": [
        "we can see that in avarege the score climbs to its climax at 10-15 neighbors, above or below that range the score is lower"
      ]
    },
    {
      "cell_type": "code",
      "metadata": {
        "colab": {
          "base_uri": "https://localhost:8080/",
          "height": 143
        },
        "id": "bbfizeYM1LKz",
        "outputId": "0bf1af8b-ede5-4d88-fd30-2848d01b944e"
      },
      "source": [
        "# Average score of the weights (seems uniform is slightly better):\n",
        "results[['param_weights', 'mean_test_score']].groupby('param_weights').mean('mean_test_score')"
      ],
      "execution_count": 333,
      "outputs": [
        {
          "output_type": "execute_result",
          "data": {
            "text/html": [
              "<div>\n",
              "<style scoped>\n",
              "    .dataframe tbody tr th:only-of-type {\n",
              "        vertical-align: middle;\n",
              "    }\n",
              "\n",
              "    .dataframe tbody tr th {\n",
              "        vertical-align: top;\n",
              "    }\n",
              "\n",
              "    .dataframe thead th {\n",
              "        text-align: right;\n",
              "    }\n",
              "</style>\n",
              "<table border=\"1\" class=\"dataframe\">\n",
              "  <thead>\n",
              "    <tr style=\"text-align: right;\">\n",
              "      <th></th>\n",
              "      <th>mean_test_score</th>\n",
              "    </tr>\n",
              "    <tr>\n",
              "      <th>param_weights</th>\n",
              "      <th></th>\n",
              "    </tr>\n",
              "  </thead>\n",
              "  <tbody>\n",
              "    <tr>\n",
              "      <th>distance</th>\n",
              "      <td>0.86</td>\n",
              "    </tr>\n",
              "    <tr>\n",
              "      <th>uniform</th>\n",
              "      <td>0.88</td>\n",
              "    </tr>\n",
              "  </tbody>\n",
              "</table>\n",
              "</div>"
            ],
            "text/plain": [
              "               mean_test_score\n",
              "param_weights                 \n",
              "distance                  0.86\n",
              "uniform                   0.88"
            ]
          },
          "metadata": {},
          "execution_count": 333
        }
      ]
    },
    {
      "cell_type": "code",
      "metadata": {
        "colab": {
          "base_uri": "https://localhost:8080/"
        },
        "id": "j1FpioSH1n7k",
        "outputId": "12440893-77a6-4a7a-e7cb-676fd813c75d"
      },
      "source": [
        "runKNN = KNeighborsClassifier(\n",
        "    algorithm=myKnn.best_params_['algorithm'],\n",
        "    n_neighbors=myKnn.best_params_['n_neighbors'],\n",
        "    weights=myKnn.best_params_['weights']\n",
        ")\n",
        "runKNN.fit(X_train,y_train)\n",
        "runKNN.score(X_test,y_test)"
      ],
      "execution_count": 334,
      "outputs": [
        {
          "output_type": "execute_result",
          "data": {
            "text/plain": [
              "0.8695652173913043"
            ]
          },
          "metadata": {},
          "execution_count": 334
        }
      ]
    },
    {
      "cell_type": "code",
      "metadata": {
        "colab": {
          "base_uri": "https://localhost:8080/",
          "height": 301
        },
        "id": "BM001HX02zPI",
        "outputId": "924a8b57-176c-480f-fdcf-8558ad0e7b13"
      },
      "source": [
        "plot_confusion_matrix(runKNN,X_test,y_test, cmap='Purples')"
      ],
      "execution_count": 335,
      "outputs": [
        {
          "output_type": "execute_result",
          "data": {
            "text/plain": [
              "<sklearn.metrics._plot.confusion_matrix.ConfusionMatrixDisplay at 0x7f67d6655c10>"
            ]
          },
          "metadata": {},
          "execution_count": 335
        },
        {
          "output_type": "display_data",
          "data": {
            "image/png": "[encoded data removed]",
            "text/plain": [
              "<Figure size 432x288 with 2 Axes>"
            ]
          },
          "metadata": {
            "needs_background": "light"
          }
        }
      ]
    },
    {
      "cell_type": "code",
      "metadata": {
        "colab": {
          "base_uri": "https://localhost:8080/"
        },
        "id": "IQYtujnj35Rm",
        "outputId": "b9df7740-b23e-4a55-9cb6-40f9cb0e9113"
      },
      "source": [
        "# Those are nice results !!! \n",
        "# Espeacialy for the low level Monsters (the majorithy of the monsters in the game)\n",
        "# The others (mid & high) are more than 50% as well\n",
        "pred = runKNN.predict(X_test)\n",
        "print(classification_report(y_test,pred,digits=3))"
      ],
      "execution_count": 336,
      "outputs": [
        {
          "output_type": "stream",
          "text": [
            "              precision    recall  f1-score   support\n",
            "\n",
            "     High CR      0.600     0.667     0.632         9\n",
            "      Low CR      0.941     0.964     0.952        83\n",
            "      Mid CR      0.700     0.609     0.651        23\n",
            "\n",
            "    accuracy                          0.870       115\n",
            "   macro avg      0.747     0.746     0.745       115\n",
            "weighted avg      0.866     0.870     0.867       115\n",
            "\n"
          ],
          "name": "stdout"
        }
      ]
    },
    {
      "cell_type": "code",
      "metadata": {
        "colab": {
          "base_uri": "https://localhost:8080/",
          "height": 406
        },
        "id": "pdjzSpWr6Si7",
        "outputId": "bbc69201-848f-4fc7-cea9-df2943651695"
      },
      "source": [
        "# Now the same with SVM:\n",
        "print('Shape: ', X_train.shape, y_train.shape)\n",
        "calcTime = time.time()\n",
        "params = {\n",
        "    'kernel': ('linear','poly','rbf', 'sigmoid'),\n",
        "    'C': [0.1,1,10], \n",
        "    'gamma': ['scale','auto']\n",
        "}\n",
        "mySvm = GridSearchCV(SVC(),params,cv=5)\n",
        "mySvm.fit(X_train,y_train)\n",
        "calcTime = time.time() - calcTime\n",
        "print ('Train time: {:2f}'.format(calcTime))\n",
        "results = pd.DataFrame(mySvm.cv_results_)\n",
        "results.head(3)"
      ],
      "execution_count": 337,
      "outputs": [
        {
          "output_type": "stream",
          "text": [
            "Shape:  (646, 5) (646,)\n",
            "Train time: 0.953498\n"
          ],
          "name": "stdout"
        },
        {
          "output_type": "execute_result",
          "data": {
            "text/html": [
              "<div>\n",
              "<style scoped>\n",
              "    .dataframe tbody tr th:only-of-type {\n",
              "        vertical-align: middle;\n",
              "    }\n",
              "\n",
              "    .dataframe tbody tr th {\n",
              "        vertical-align: top;\n",
              "    }\n",
              "\n",
              "    .dataframe thead th {\n",
              "        text-align: right;\n",
              "    }\n",
              "</style>\n",
              "<table border=\"1\" class=\"dataframe\">\n",
              "  <thead>\n",
              "    <tr style=\"text-align: right;\">\n",
              "      <th></th>\n",
              "      <th>mean_fit_time</th>\n",
              "      <th>std_fit_time</th>\n",
              "      <th>mean_score_time</th>\n",
              "      <th>std_score_time</th>\n",
              "      <th>param_C</th>\n",
              "      <th>param_gamma</th>\n",
              "      <th>param_kernel</th>\n",
              "      <th>params</th>\n",
              "      <th>split0_test_score</th>\n",
              "      <th>split1_test_score</th>\n",
              "      <th>split2_test_score</th>\n",
              "      <th>split3_test_score</th>\n",
              "      <th>split4_test_score</th>\n",
              "      <th>mean_test_score</th>\n",
              "      <th>std_test_score</th>\n",
              "      <th>rank_test_score</th>\n",
              "    </tr>\n",
              "  </thead>\n",
              "  <tbody>\n",
              "    <tr>\n",
              "      <th>0</th>\n",
              "      <td>0.00</td>\n",
              "      <td>0.00</td>\n",
              "      <td>0.00</td>\n",
              "      <td>0.00</td>\n",
              "      <td>0.10</td>\n",
              "      <td>scale</td>\n",
              "      <td>linear</td>\n",
              "      <td>{'C': 0.1, 'gamma': 'scale', 'kernel': 'linear'}</td>\n",
              "      <td>0.88</td>\n",
              "      <td>0.91</td>\n",
              "      <td>0.88</td>\n",
              "      <td>0.93</td>\n",
              "      <td>0.91</td>\n",
              "      <td>0.90</td>\n",
              "      <td>0.02</td>\n",
              "      <td>8</td>\n",
              "    </tr>\n",
              "    <tr>\n",
              "      <th>1</th>\n",
              "      <td>0.01</td>\n",
              "      <td>0.00</td>\n",
              "      <td>0.00</td>\n",
              "      <td>0.00</td>\n",
              "      <td>0.10</td>\n",
              "      <td>scale</td>\n",
              "      <td>poly</td>\n",
              "      <td>{'C': 0.1, 'gamma': 'scale', 'kernel': 'poly'}</td>\n",
              "      <td>0.82</td>\n",
              "      <td>0.83</td>\n",
              "      <td>0.84</td>\n",
              "      <td>0.81</td>\n",
              "      <td>0.78</td>\n",
              "      <td>0.82</td>\n",
              "      <td>0.02</td>\n",
              "      <td>19</td>\n",
              "    </tr>\n",
              "    <tr>\n",
              "      <th>2</th>\n",
              "      <td>0.01</td>\n",
              "      <td>0.00</td>\n",
              "      <td>0.00</td>\n",
              "      <td>0.00</td>\n",
              "      <td>0.10</td>\n",
              "      <td>scale</td>\n",
              "      <td>rbf</td>\n",
              "      <td>{'C': 0.1, 'gamma': 'scale', 'kernel': 'rbf'}</td>\n",
              "      <td>0.86</td>\n",
              "      <td>0.88</td>\n",
              "      <td>0.87</td>\n",
              "      <td>0.89</td>\n",
              "      <td>0.89</td>\n",
              "      <td>0.88</td>\n",
              "      <td>0.01</td>\n",
              "      <td>12</td>\n",
              "    </tr>\n",
              "  </tbody>\n",
              "</table>\n",
              "</div>"
            ],
            "text/plain": [
              "   mean_fit_time  std_fit_time  ...  std_test_score  rank_test_score\n",
              "0           0.00          0.00  ...            0.02                8\n",
              "1           0.01          0.00  ...            0.02               19\n",
              "2           0.01          0.00  ...            0.01               12\n",
              "\n",
              "[3 rows x 16 columns]"
            ]
          },
          "metadata": {},
          "execution_count": 337
        }
      ]
    },
    {
      "cell_type": "code",
      "metadata": {
        "colab": {
          "base_uri": "https://localhost:8080/",
          "height": 801
        },
        "id": "6eZuCYsG7tv4",
        "outputId": "4a59fd37-0b41-415c-d8a2-0c0ee8d6d7b6"
      },
      "source": [
        "results[['param_C','param_gamma','param_kernel','mean_test_score','rank_test_score']]"
      ],
      "execution_count": 338,
      "outputs": [
        {
          "output_type": "execute_result",
          "data": {
            "text/html": [
              "<div>\n",
              "<style scoped>\n",
              "    .dataframe tbody tr th:only-of-type {\n",
              "        vertical-align: middle;\n",
              "    }\n",
              "\n",
              "    .dataframe tbody tr th {\n",
              "        vertical-align: top;\n",
              "    }\n",
              "\n",
              "    .dataframe thead th {\n",
              "        text-align: right;\n",
              "    }\n",
              "</style>\n",
              "<table border=\"1\" class=\"dataframe\">\n",
              "  <thead>\n",
              "    <tr style=\"text-align: right;\">\n",
              "      <th></th>\n",
              "      <th>param_C</th>\n",
              "      <th>param_gamma</th>\n",
              "      <th>param_kernel</th>\n",
              "      <th>mean_test_score</th>\n",
              "      <th>rank_test_score</th>\n",
              "    </tr>\n",
              "  </thead>\n",
              "  <tbody>\n",
              "    <tr>\n",
              "      <th>0</th>\n",
              "      <td>0.10</td>\n",
              "      <td>scale</td>\n",
              "      <td>linear</td>\n",
              "      <td>0.90</td>\n",
              "      <td>8</td>\n",
              "    </tr>\n",
              "    <tr>\n",
              "      <th>1</th>\n",
              "      <td>0.10</td>\n",
              "      <td>scale</td>\n",
              "      <td>poly</td>\n",
              "      <td>0.82</td>\n",
              "      <td>19</td>\n",
              "    </tr>\n",
              "    <tr>\n",
              "      <th>2</th>\n",
              "      <td>0.10</td>\n",
              "      <td>scale</td>\n",
              "      <td>rbf</td>\n",
              "      <td>0.88</td>\n",
              "      <td>12</td>\n",
              "    </tr>\n",
              "    <tr>\n",
              "      <th>3</th>\n",
              "      <td>0.10</td>\n",
              "      <td>scale</td>\n",
              "      <td>sigmoid</td>\n",
              "      <td>0.83</td>\n",
              "      <td>17</td>\n",
              "    </tr>\n",
              "    <tr>\n",
              "      <th>4</th>\n",
              "      <td>0.10</td>\n",
              "      <td>auto</td>\n",
              "      <td>linear</td>\n",
              "      <td>0.90</td>\n",
              "      <td>8</td>\n",
              "    </tr>\n",
              "    <tr>\n",
              "      <th>5</th>\n",
              "      <td>0.10</td>\n",
              "      <td>auto</td>\n",
              "      <td>poly</td>\n",
              "      <td>0.77</td>\n",
              "      <td>21</td>\n",
              "    </tr>\n",
              "    <tr>\n",
              "      <th>6</th>\n",
              "      <td>0.10</td>\n",
              "      <td>auto</td>\n",
              "      <td>rbf</td>\n",
              "      <td>0.87</td>\n",
              "      <td>13</td>\n",
              "    </tr>\n",
              "    <tr>\n",
              "      <th>7</th>\n",
              "      <td>0.10</td>\n",
              "      <td>auto</td>\n",
              "      <td>sigmoid</td>\n",
              "      <td>0.83</td>\n",
              "      <td>16</td>\n",
              "    </tr>\n",
              "    <tr>\n",
              "      <th>8</th>\n",
              "      <td>1</td>\n",
              "      <td>scale</td>\n",
              "      <td>linear</td>\n",
              "      <td>0.91</td>\n",
              "      <td>1</td>\n",
              "    </tr>\n",
              "    <tr>\n",
              "      <th>9</th>\n",
              "      <td>1</td>\n",
              "      <td>scale</td>\n",
              "      <td>poly</td>\n",
              "      <td>0.85</td>\n",
              "      <td>14</td>\n",
              "    </tr>\n",
              "    <tr>\n",
              "      <th>10</th>\n",
              "      <td>1</td>\n",
              "      <td>scale</td>\n",
              "      <td>rbf</td>\n",
              "      <td>0.90</td>\n",
              "      <td>7</td>\n",
              "    </tr>\n",
              "    <tr>\n",
              "      <th>11</th>\n",
              "      <td>1</td>\n",
              "      <td>scale</td>\n",
              "      <td>sigmoid</td>\n",
              "      <td>0.75</td>\n",
              "      <td>22</td>\n",
              "    </tr>\n",
              "    <tr>\n",
              "      <th>12</th>\n",
              "      <td>1</td>\n",
              "      <td>auto</td>\n",
              "      <td>linear</td>\n",
              "      <td>0.91</td>\n",
              "      <td>1</td>\n",
              "    </tr>\n",
              "    <tr>\n",
              "      <th>13</th>\n",
              "      <td>1</td>\n",
              "      <td>auto</td>\n",
              "      <td>poly</td>\n",
              "      <td>0.82</td>\n",
              "      <td>18</td>\n",
              "    </tr>\n",
              "    <tr>\n",
              "      <th>14</th>\n",
              "      <td>1</td>\n",
              "      <td>auto</td>\n",
              "      <td>rbf</td>\n",
              "      <td>0.91</td>\n",
              "      <td>4</td>\n",
              "    </tr>\n",
              "    <tr>\n",
              "      <th>15</th>\n",
              "      <td>1</td>\n",
              "      <td>auto</td>\n",
              "      <td>sigmoid</td>\n",
              "      <td>0.81</td>\n",
              "      <td>20</td>\n",
              "    </tr>\n",
              "    <tr>\n",
              "      <th>16</th>\n",
              "      <td>10</td>\n",
              "      <td>scale</td>\n",
              "      <td>linear</td>\n",
              "      <td>0.91</td>\n",
              "      <td>5</td>\n",
              "    </tr>\n",
              "    <tr>\n",
              "      <th>17</th>\n",
              "      <td>10</td>\n",
              "      <td>scale</td>\n",
              "      <td>poly</td>\n",
              "      <td>0.88</td>\n",
              "      <td>11</td>\n",
              "    </tr>\n",
              "    <tr>\n",
              "      <th>18</th>\n",
              "      <td>10</td>\n",
              "      <td>scale</td>\n",
              "      <td>rbf</td>\n",
              "      <td>0.90</td>\n",
              "      <td>10</td>\n",
              "    </tr>\n",
              "    <tr>\n",
              "      <th>19</th>\n",
              "      <td>10</td>\n",
              "      <td>scale</td>\n",
              "      <td>sigmoid</td>\n",
              "      <td>0.72</td>\n",
              "      <td>24</td>\n",
              "    </tr>\n",
              "    <tr>\n",
              "      <th>20</th>\n",
              "      <td>10</td>\n",
              "      <td>auto</td>\n",
              "      <td>linear</td>\n",
              "      <td>0.91</td>\n",
              "      <td>5</td>\n",
              "    </tr>\n",
              "    <tr>\n",
              "      <th>21</th>\n",
              "      <td>10</td>\n",
              "      <td>auto</td>\n",
              "      <td>poly</td>\n",
              "      <td>0.85</td>\n",
              "      <td>14</td>\n",
              "    </tr>\n",
              "    <tr>\n",
              "      <th>22</th>\n",
              "      <td>10</td>\n",
              "      <td>auto</td>\n",
              "      <td>rbf</td>\n",
              "      <td>0.91</td>\n",
              "      <td>3</td>\n",
              "    </tr>\n",
              "    <tr>\n",
              "      <th>23</th>\n",
              "      <td>10</td>\n",
              "      <td>auto</td>\n",
              "      <td>sigmoid</td>\n",
              "      <td>0.75</td>\n",
              "      <td>23</td>\n",
              "    </tr>\n",
              "  </tbody>\n",
              "</table>\n",
              "</div>"
            ],
            "text/plain": [
              "   param_C param_gamma param_kernel  mean_test_score  rank_test_score\n",
              "0     0.10       scale       linear             0.90                8\n",
              "1     0.10       scale         poly             0.82               19\n",
              "2     0.10       scale          rbf             0.88               12\n",
              "3     0.10       scale      sigmoid             0.83               17\n",
              "4     0.10        auto       linear             0.90                8\n",
              "5     0.10        auto         poly             0.77               21\n",
              "6     0.10        auto          rbf             0.87               13\n",
              "7     0.10        auto      sigmoid             0.83               16\n",
              "8        1       scale       linear             0.91                1\n",
              "9        1       scale         poly             0.85               14\n",
              "10       1       scale          rbf             0.90                7\n",
              "11       1       scale      sigmoid             0.75               22\n",
              "12       1        auto       linear             0.91                1\n",
              "13       1        auto         poly             0.82               18\n",
              "14       1        auto          rbf             0.91                4\n",
              "15       1        auto      sigmoid             0.81               20\n",
              "16      10       scale       linear             0.91                5\n",
              "17      10       scale         poly             0.88               11\n",
              "18      10       scale          rbf             0.90               10\n",
              "19      10       scale      sigmoid             0.72               24\n",
              "20      10        auto       linear             0.91                5\n",
              "21      10        auto         poly             0.85               14\n",
              "22      10        auto          rbf             0.91                3\n",
              "23      10        auto      sigmoid             0.75               23"
            ]
          },
          "metadata": {},
          "execution_count": 338
        }
      ]
    },
    {
      "cell_type": "code",
      "metadata": {
        "colab": {
          "base_uri": "https://localhost:8080/"
        },
        "id": "8NLWA-Np8Jln",
        "outputId": "f3a0a200-e601-4411-8530-6f4231c097e9"
      },
      "source": [
        "# Those are the best Params (with 0.91 mean_test_score):\n",
        "mySvm.best_params_"
      ],
      "execution_count": 339,
      "outputs": [
        {
          "output_type": "execute_result",
          "data": {
            "text/plain": [
              "{'C': 1, 'gamma': 'scale', 'kernel': 'linear'}"
            ]
          },
          "metadata": {},
          "execution_count": 339
        }
      ]
    },
    {
      "cell_type": "markdown",
      "metadata": {
        "id": "u52Q1-K7_kpz"
      },
      "source": [
        ""
      ]
    },
    {
      "cell_type": "code",
      "metadata": {
        "colab": {
          "base_uri": "https://localhost:8080/",
          "height": 384
        },
        "id": "-QZ1G8dd8cwg",
        "outputId": "cfc8df4d-034a-4c90-ea40-4c80288fd1eb"
      },
      "source": [
        "# we can see that param_C=1 is a bit higher (0.86)...\n",
        "print(results[['param_C','mean_test_score']].groupby('param_C').mean('mean_test_score'))\n",
        "sns.barplot(y='mean_test_score', x='param_C', data=results)"
      ],
      "execution_count": 340,
      "outputs": [
        {
          "output_type": "stream",
          "text": [
            "         mean_test_score\n",
            "param_C                 \n",
            "0.10                0.85\n",
            "1.00                0.86\n",
            "10.00               0.85\n"
          ],
          "name": "stdout"
        },
        {
          "output_type": "execute_result",
          "data": {
            "text/plain": [
              "<matplotlib.axes._subplots.AxesSubplot at 0x7f67d65b8350>"
            ]
          },
          "metadata": {},
          "execution_count": 340
        },
        {
          "output_type": "display_data",
          "data": {
            "image/png": "[encoded data removed]",
            "text/plain": [
              "<Figure size 432x288 with 1 Axes>"
            ]
          },
          "metadata": {
            "needs_background": "light"
          }
        }
      ]
    },
    {
      "cell_type": "code",
      "metadata": {
        "colab": {
          "base_uri": "https://localhost:8080/",
          "height": 366
        },
        "id": "ZW7iOMQQ-xuk",
        "outputId": "bc643acc-47c3-4903-fc40-5f6a842c03b5"
      },
      "source": [
        "# we can see the gamma is the same on avrg (0.85)...\n",
        "print(results[['param_gamma','mean_test_score']].groupby('param_gamma').mean('mean_test_score'))\n",
        "sns.barplot(y='mean_test_score', x='param_gamma', data=results)"
      ],
      "execution_count": 341,
      "outputs": [
        {
          "output_type": "stream",
          "text": [
            "             mean_test_score\n",
            "param_gamma                 \n",
            "auto                    0.85\n",
            "scale                   0.85\n"
          ],
          "name": "stdout"
        },
        {
          "output_type": "execute_result",
          "data": {
            "text/plain": [
              "<matplotlib.axes._subplots.AxesSubplot at 0x7f67d6522e90>"
            ]
          },
          "metadata": {},
          "execution_count": 341
        },
        {
          "output_type": "display_data",
          "data": {
            "image/png": "[encoded data removed]",
            "text/plain": [
              "<Figure size 432x288 with 1 Axes>"
            ]
          },
          "metadata": {
            "needs_background": "light"
          }
        }
      ]
    },
    {
      "cell_type": "code",
      "metadata": {
        "colab": {
          "base_uri": "https://localhost:8080/",
          "height": 401
        },
        "id": "T5yNS8VTAQg0",
        "outputId": "54698efb-f3a5-42e9-c784-2f4aa077f4fc"
      },
      "source": [
        "# we can see that the linear is the highest (0.91)...\n",
        "print(results[['param_kernel','mean_test_score']].groupby('param_kernel').mean('mean_test_score'))\n",
        "sns.barplot(y='mean_test_score', x='param_kernel', data=results)"
      ],
      "execution_count": 342,
      "outputs": [
        {
          "output_type": "stream",
          "text": [
            "              mean_test_score\n",
            "param_kernel                 \n",
            "linear                   0.91\n",
            "poly                     0.83\n",
            "rbf                      0.90\n",
            "sigmoid                  0.78\n"
          ],
          "name": "stdout"
        },
        {
          "output_type": "execute_result",
          "data": {
            "text/plain": [
              "<matplotlib.axes._subplots.AxesSubplot at 0x7f67d65be510>"
            ]
          },
          "metadata": {},
          "execution_count": 342
        },
        {
          "output_type": "display_data",
          "data": {
            "image/png": "[encoded data removed]",
            "text/plain": [
              "<Figure size 432x288 with 1 Axes>"
            ]
          },
          "metadata": {
            "needs_background": "light"
          }
        }
      ]
    },
    {
      "cell_type": "code",
      "metadata": {
        "colab": {
          "base_uri": "https://localhost:8080/"
        },
        "id": "XcJJ93_SAwHT",
        "outputId": "be549051-1c31-4288-9241-5e11b9460317"
      },
      "source": [
        "runSvm = SVC(\n",
        "    C=mySvm.best_params_['C'],\n",
        "    gamma=mySvm.best_params_['gamma'],\n",
        "    kernel=mySvm.best_params_['kernel']\n",
        ")\n",
        "runSvm.fit(X_train,y_train)\n",
        "runSvm.score(X_test,y_test)"
      ],
      "execution_count": 343,
      "outputs": [
        {
          "output_type": "execute_result",
          "data": {
            "text/plain": [
              "0.8956521739130435"
            ]
          },
          "metadata": {},
          "execution_count": 343
        }
      ]
    },
    {
      "cell_type": "code",
      "metadata": {
        "colab": {
          "base_uri": "https://localhost:8080/",
          "height": 297
        },
        "id": "RdE5pb2LBvQG",
        "outputId": "6819298f-2e32-4bc4-dd14-45bea9e342dd"
      },
      "source": [
        "plot_confusion_matrix(runSvm,X_test,y_test, cmap='Greens')"
      ],
      "execution_count": 344,
      "outputs": [
        {
          "output_type": "execute_result",
          "data": {
            "text/plain": [
              "<sklearn.metrics._plot.confusion_matrix.ConfusionMatrixDisplay at 0x7f67d64f1690>"
            ]
          },
          "metadata": {},
          "execution_count": 344
        },
        {
          "output_type": "display_data",
          "data": {
            "image/png": "[encoded data removed]",
            "text/plain": [
              "<Figure size 432x288 with 2 Axes>"
            ]
          },
          "metadata": {
            "needs_background": "light"
          }
        }
      ]
    },
    {
      "cell_type": "code",
      "metadata": {
        "colab": {
          "base_uri": "https://localhost:8080/"
        },
        "id": "b6X-UATXCUwN",
        "outputId": "068c1c49-35b3-42b5-a7ef-dd984306f219"
      },
      "source": [
        "# Those are much better results than KNN!!! \n",
        "# Low level Monsters are up to 95%\n",
        "# Significant improvement with mid & high Monsters !\n",
        "pred = runSvm.predict(X_test)\n",
        "print(classification_report(y_test,pred,digits=3))"
      ],
      "execution_count": 345,
      "outputs": [
        {
          "output_type": "stream",
          "text": [
            "              precision    recall  f1-score   support\n",
            "\n",
            "     High CR      0.778     0.778     0.778         9\n",
            "      Low CR      0.952     0.952     0.952        83\n",
            "      Mid CR      0.739     0.739     0.739        23\n",
            "\n",
            "    accuracy                          0.896       115\n",
            "   macro avg      0.823     0.823     0.823       115\n",
            "weighted avg      0.896     0.896     0.896       115\n",
            "\n"
          ],
          "name": "stdout"
        }
      ]
    },
    {
      "cell_type": "markdown",
      "metadata": {
        "id": "TpJJUiOGDD2L"
      },
      "source": [
        "# **I pick SVM!**"
      ]
    }
  ]
}